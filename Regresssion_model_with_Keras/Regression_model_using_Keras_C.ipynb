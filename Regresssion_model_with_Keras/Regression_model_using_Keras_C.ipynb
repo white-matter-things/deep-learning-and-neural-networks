{
 "cells": [
  {
   "cell_type": "markdown",
   "id": "e158b380-c738-4a22-ae33-1a6fa917fde0",
   "metadata": {
    "tags": []
   },
   "source": [
    "<h2>Regression Models with Keras. Part C</h2>\n",
    "<h3>Objective for this Notebook:</h3>    \n",
    "Repeat Regression Models with Keras Part B but use 100 epochs this time for training.   \n",
    "\n",
    "How does the mean of the mean squared errors compare to that from Step B?\n",
    "\n",
    "<h3>Concrete Data:</h3>    \n",
    "The data can be found here: \n",
    "https://cocl.us/concrete_data\n",
    "   \n",
    " \n",
    "       \n"
   ]
  },
  {
   "cell_type": "markdown",
   "id": "dad000f6-3b96-4c98-9684-8bb5522a090c",
   "metadata": {},
   "source": [
    "## Table of Contents\n",
    "\n",
    "<div class=\"alert alert-block alert-info\" style=\"margin-top: 20px\">\n",
    "\n",
    "<font size = 3>\n",
    "    \n",
    "1. <a href=\"#item31\">Prepare the data: Download, Clean and Split the Dataset     \n",
    "2. <a href=\"#item32\">Import Keras</a>  \n",
    "3. <a href=\"#item33\">Build a Neural Network</a>  \n",
    "4. <a href=\"#item34\">Train and Test the Network</a>  \n",
    "5. <a href=\"#item35\">Evaluate the model</a>      \n",
    "\n",
    "</font>\n",
    "</div>\n"
   ]
  },
  {
   "cell_type": "markdown",
   "id": "dbcf02d4-4c78-47be-a3b9-07e8eadc16d7",
   "metadata": {},
   "source": [
    "<a id=\"item31\"></a>"
   ]
  },
  {
   "cell_type": "markdown",
   "id": "c5ba0903-b30f-4eec-b8e7-bcbcaa33ab54",
   "metadata": {
    "tags": []
   },
   "source": [
    "## 1. Prepare the data: Download, Check and Split the Dataset"
   ]
  },
  {
   "cell_type": "markdown",
   "id": "df9ec73c-49f3-4068-b6c3-fee87be0bc4f",
   "metadata": {
    "tags": []
   },
   "source": [
    "#### 1.1 Download the data "
   ]
  },
  {
   "cell_type": "markdown",
   "id": "27561b7e-0388-45d4-a417-427e0564ddd1",
   "metadata": {},
   "source": [
    "Import the <em>pandas</em> and the Numpy libraries.\n"
   ]
  },
  {
   "cell_type": "code",
   "execution_count": 1,
   "id": "55d28b19-b023-4d8a-8703-c469f85b3367",
   "metadata": {
    "tags": []
   },
   "outputs": [],
   "source": [
    "# Uncomment the following if running on desktop:\n",
    "#!pip install numpy==1.21.4\n",
    "#!pip install pandas==1.3.4\n",
    "#!pip install keras==2.1.6"
   ]
  },
  {
   "cell_type": "code",
   "execution_count": 2,
   "id": "0765cc84-4414-4fc2-9715-ad2bd6faa36e",
   "metadata": {
    "tags": []
   },
   "outputs": [],
   "source": [
    "import pandas as pd\n",
    "import numpy as np"
   ]
  },
  {
   "cell_type": "markdown",
   "id": "b99b5601-759a-4507-8f42-b4e558a7fabb",
   "metadata": {},
   "source": [
    "Download the data and read it into a <em>pandas</em> dataframe."
   ]
  },
  {
   "cell_type": "code",
   "execution_count": 3,
   "id": "c53c9dc8-ddc8-4d77-9686-24a9cdf2d1f5",
   "metadata": {
    "tags": []
   },
   "outputs": [
    {
     "data": {
      "text/html": [
       "<div>\n",
       "<style scoped>\n",
       "    .dataframe tbody tr th:only-of-type {\n",
       "        vertical-align: middle;\n",
       "    }\n",
       "\n",
       "    .dataframe tbody tr th {\n",
       "        vertical-align: top;\n",
       "    }\n",
       "\n",
       "    .dataframe thead th {\n",
       "        text-align: right;\n",
       "    }\n",
       "</style>\n",
       "<table border=\"1\" class=\"dataframe\">\n",
       "  <thead>\n",
       "    <tr style=\"text-align: right;\">\n",
       "      <th></th>\n",
       "      <th>Cement</th>\n",
       "      <th>Blast Furnace Slag</th>\n",
       "      <th>Fly Ash</th>\n",
       "      <th>Water</th>\n",
       "      <th>Superplasticizer</th>\n",
       "      <th>Coarse Aggregate</th>\n",
       "      <th>Fine Aggregate</th>\n",
       "      <th>Age</th>\n",
       "      <th>Strength</th>\n",
       "    </tr>\n",
       "  </thead>\n",
       "  <tbody>\n",
       "    <tr>\n",
       "      <th>0</th>\n",
       "      <td>540.0</td>\n",
       "      <td>0.0</td>\n",
       "      <td>0.0</td>\n",
       "      <td>162.0</td>\n",
       "      <td>2.5</td>\n",
       "      <td>1040.0</td>\n",
       "      <td>676.0</td>\n",
       "      <td>28</td>\n",
       "      <td>79.99</td>\n",
       "    </tr>\n",
       "    <tr>\n",
       "      <th>1</th>\n",
       "      <td>540.0</td>\n",
       "      <td>0.0</td>\n",
       "      <td>0.0</td>\n",
       "      <td>162.0</td>\n",
       "      <td>2.5</td>\n",
       "      <td>1055.0</td>\n",
       "      <td>676.0</td>\n",
       "      <td>28</td>\n",
       "      <td>61.89</td>\n",
       "    </tr>\n",
       "    <tr>\n",
       "      <th>2</th>\n",
       "      <td>332.5</td>\n",
       "      <td>142.5</td>\n",
       "      <td>0.0</td>\n",
       "      <td>228.0</td>\n",
       "      <td>0.0</td>\n",
       "      <td>932.0</td>\n",
       "      <td>594.0</td>\n",
       "      <td>270</td>\n",
       "      <td>40.27</td>\n",
       "    </tr>\n",
       "    <tr>\n",
       "      <th>3</th>\n",
       "      <td>332.5</td>\n",
       "      <td>142.5</td>\n",
       "      <td>0.0</td>\n",
       "      <td>228.0</td>\n",
       "      <td>0.0</td>\n",
       "      <td>932.0</td>\n",
       "      <td>594.0</td>\n",
       "      <td>365</td>\n",
       "      <td>41.05</td>\n",
       "    </tr>\n",
       "    <tr>\n",
       "      <th>4</th>\n",
       "      <td>198.6</td>\n",
       "      <td>132.4</td>\n",
       "      <td>0.0</td>\n",
       "      <td>192.0</td>\n",
       "      <td>0.0</td>\n",
       "      <td>978.4</td>\n",
       "      <td>825.5</td>\n",
       "      <td>360</td>\n",
       "      <td>44.30</td>\n",
       "    </tr>\n",
       "  </tbody>\n",
       "</table>\n",
       "</div>"
      ],
      "text/plain": [
       "   Cement  Blast Furnace Slag  Fly Ash  Water  Superplasticizer  \\\n",
       "0   540.0                 0.0      0.0  162.0               2.5   \n",
       "1   540.0                 0.0      0.0  162.0               2.5   \n",
       "2   332.5               142.5      0.0  228.0               0.0   \n",
       "3   332.5               142.5      0.0  228.0               0.0   \n",
       "4   198.6               132.4      0.0  192.0               0.0   \n",
       "\n",
       "   Coarse Aggregate  Fine Aggregate  Age  Strength  \n",
       "0            1040.0           676.0   28     79.99  \n",
       "1            1055.0           676.0   28     61.89  \n",
       "2             932.0           594.0  270     40.27  \n",
       "3             932.0           594.0  365     41.05  \n",
       "4             978.4           825.5  360     44.30  "
      ]
     },
     "execution_count": 3,
     "metadata": {},
     "output_type": "execute_result"
    }
   ],
   "source": [
    "concrete_data = pd.read_csv('https://s3-api.us-geo.objectstorage.softlayer.net/cf-courses-data/CognitiveClass/DL0101EN/labs/data/concrete_data.csv')\n",
    "concrete_data.head()"
   ]
  },
  {
   "cell_type": "markdown",
   "id": "119c938a-91de-472b-b5ee-e811b9d588e3",
   "metadata": {},
   "source": [
    "The dataset is about the compressive strength of different samples of concrete based on the volumes of the different ingredients that were used to make them. Ingredients include:\n",
    "\n",
    "1. Cement\n",
    "2. Blast Furnace Slag\n",
    "3. Fly Ash\n",
    "4. Water\n",
    "5. Superplasticizer\n",
    "6. Coarse Aggregate\n",
    "7. Fine Aggregate\n"
   ]
  },
  {
   "cell_type": "markdown",
   "id": "0cc114e1-7368-4c13-88e5-c966c9901ddb",
   "metadata": {
    "tags": []
   },
   "source": [
    "#### 1.2 Check the data "
   ]
  },
  {
   "cell_type": "markdown",
   "id": "612b70cf-6719-4df4-b112-a9ea21bab9ed",
   "metadata": {
    "tags": []
   },
   "source": [
    "Check how many data points we have."
   ]
  },
  {
   "cell_type": "code",
   "execution_count": 4,
   "id": "f229bb30-9b4f-43ca-bdb4-d170f612bd59",
   "metadata": {
    "tags": []
   },
   "outputs": [
    {
     "data": {
      "text/plain": [
       "(1030, 9)"
      ]
     },
     "execution_count": 4,
     "metadata": {},
     "output_type": "execute_result"
    }
   ],
   "source": [
    "concrete_data.shape"
   ]
  },
  {
   "cell_type": "markdown",
   "id": "107124e1-a196-406a-b6eb-628259f8174a",
   "metadata": {},
   "source": [
    "Check the dataset for any missing values."
   ]
  },
  {
   "cell_type": "code",
   "execution_count": 5,
   "id": "7988a885-df60-4ce3-9a88-3972db3b6389",
   "metadata": {
    "tags": []
   },
   "outputs": [
    {
     "data": {
      "text/html": [
       "<div>\n",
       "<style scoped>\n",
       "    .dataframe tbody tr th:only-of-type {\n",
       "        vertical-align: middle;\n",
       "    }\n",
       "\n",
       "    .dataframe tbody tr th {\n",
       "        vertical-align: top;\n",
       "    }\n",
       "\n",
       "    .dataframe thead th {\n",
       "        text-align: right;\n",
       "    }\n",
       "</style>\n",
       "<table border=\"1\" class=\"dataframe\">\n",
       "  <thead>\n",
       "    <tr style=\"text-align: right;\">\n",
       "      <th></th>\n",
       "      <th>Cement</th>\n",
       "      <th>Blast Furnace Slag</th>\n",
       "      <th>Fly Ash</th>\n",
       "      <th>Water</th>\n",
       "      <th>Superplasticizer</th>\n",
       "      <th>Coarse Aggregate</th>\n",
       "      <th>Fine Aggregate</th>\n",
       "      <th>Age</th>\n",
       "      <th>Strength</th>\n",
       "    </tr>\n",
       "  </thead>\n",
       "  <tbody>\n",
       "    <tr>\n",
       "      <th>count</th>\n",
       "      <td>1030.000000</td>\n",
       "      <td>1030.000000</td>\n",
       "      <td>1030.000000</td>\n",
       "      <td>1030.000000</td>\n",
       "      <td>1030.000000</td>\n",
       "      <td>1030.000000</td>\n",
       "      <td>1030.000000</td>\n",
       "      <td>1030.000000</td>\n",
       "      <td>1030.000000</td>\n",
       "    </tr>\n",
       "    <tr>\n",
       "      <th>mean</th>\n",
       "      <td>281.167864</td>\n",
       "      <td>73.895825</td>\n",
       "      <td>54.188350</td>\n",
       "      <td>181.567282</td>\n",
       "      <td>6.204660</td>\n",
       "      <td>972.918932</td>\n",
       "      <td>773.580485</td>\n",
       "      <td>45.662136</td>\n",
       "      <td>35.817961</td>\n",
       "    </tr>\n",
       "    <tr>\n",
       "      <th>std</th>\n",
       "      <td>104.506364</td>\n",
       "      <td>86.279342</td>\n",
       "      <td>63.997004</td>\n",
       "      <td>21.354219</td>\n",
       "      <td>5.973841</td>\n",
       "      <td>77.753954</td>\n",
       "      <td>80.175980</td>\n",
       "      <td>63.169912</td>\n",
       "      <td>16.705742</td>\n",
       "    </tr>\n",
       "    <tr>\n",
       "      <th>min</th>\n",
       "      <td>102.000000</td>\n",
       "      <td>0.000000</td>\n",
       "      <td>0.000000</td>\n",
       "      <td>121.800000</td>\n",
       "      <td>0.000000</td>\n",
       "      <td>801.000000</td>\n",
       "      <td>594.000000</td>\n",
       "      <td>1.000000</td>\n",
       "      <td>2.330000</td>\n",
       "    </tr>\n",
       "    <tr>\n",
       "      <th>25%</th>\n",
       "      <td>192.375000</td>\n",
       "      <td>0.000000</td>\n",
       "      <td>0.000000</td>\n",
       "      <td>164.900000</td>\n",
       "      <td>0.000000</td>\n",
       "      <td>932.000000</td>\n",
       "      <td>730.950000</td>\n",
       "      <td>7.000000</td>\n",
       "      <td>23.710000</td>\n",
       "    </tr>\n",
       "    <tr>\n",
       "      <th>50%</th>\n",
       "      <td>272.900000</td>\n",
       "      <td>22.000000</td>\n",
       "      <td>0.000000</td>\n",
       "      <td>185.000000</td>\n",
       "      <td>6.400000</td>\n",
       "      <td>968.000000</td>\n",
       "      <td>779.500000</td>\n",
       "      <td>28.000000</td>\n",
       "      <td>34.445000</td>\n",
       "    </tr>\n",
       "    <tr>\n",
       "      <th>75%</th>\n",
       "      <td>350.000000</td>\n",
       "      <td>142.950000</td>\n",
       "      <td>118.300000</td>\n",
       "      <td>192.000000</td>\n",
       "      <td>10.200000</td>\n",
       "      <td>1029.400000</td>\n",
       "      <td>824.000000</td>\n",
       "      <td>56.000000</td>\n",
       "      <td>46.135000</td>\n",
       "    </tr>\n",
       "    <tr>\n",
       "      <th>max</th>\n",
       "      <td>540.000000</td>\n",
       "      <td>359.400000</td>\n",
       "      <td>200.100000</td>\n",
       "      <td>247.000000</td>\n",
       "      <td>32.200000</td>\n",
       "      <td>1145.000000</td>\n",
       "      <td>992.600000</td>\n",
       "      <td>365.000000</td>\n",
       "      <td>82.600000</td>\n",
       "    </tr>\n",
       "  </tbody>\n",
       "</table>\n",
       "</div>"
      ],
      "text/plain": [
       "            Cement  Blast Furnace Slag      Fly Ash        Water  \\\n",
       "count  1030.000000         1030.000000  1030.000000  1030.000000   \n",
       "mean    281.167864           73.895825    54.188350   181.567282   \n",
       "std     104.506364           86.279342    63.997004    21.354219   \n",
       "min     102.000000            0.000000     0.000000   121.800000   \n",
       "25%     192.375000            0.000000     0.000000   164.900000   \n",
       "50%     272.900000           22.000000     0.000000   185.000000   \n",
       "75%     350.000000          142.950000   118.300000   192.000000   \n",
       "max     540.000000          359.400000   200.100000   247.000000   \n",
       "\n",
       "       Superplasticizer  Coarse Aggregate  Fine Aggregate          Age  \\\n",
       "count       1030.000000       1030.000000     1030.000000  1030.000000   \n",
       "mean           6.204660        972.918932      773.580485    45.662136   \n",
       "std            5.973841         77.753954       80.175980    63.169912   \n",
       "min            0.000000        801.000000      594.000000     1.000000   \n",
       "25%            0.000000        932.000000      730.950000     7.000000   \n",
       "50%            6.400000        968.000000      779.500000    28.000000   \n",
       "75%           10.200000       1029.400000      824.000000    56.000000   \n",
       "max           32.200000       1145.000000      992.600000   365.000000   \n",
       "\n",
       "          Strength  \n",
       "count  1030.000000  \n",
       "mean     35.817961  \n",
       "std      16.705742  \n",
       "min       2.330000  \n",
       "25%      23.710000  \n",
       "50%      34.445000  \n",
       "75%      46.135000  \n",
       "max      82.600000  "
      ]
     },
     "execution_count": 5,
     "metadata": {},
     "output_type": "execute_result"
    }
   ],
   "source": [
    "concrete_data.describe()"
   ]
  },
  {
   "cell_type": "code",
   "execution_count": 6,
   "id": "55bc0eda-46d7-4d63-81d6-686dc73c7737",
   "metadata": {
    "tags": []
   },
   "outputs": [
    {
     "data": {
      "text/plain": [
       "Cement                0\n",
       "Blast Furnace Slag    0\n",
       "Fly Ash               0\n",
       "Water                 0\n",
       "Superplasticizer      0\n",
       "Coarse Aggregate      0\n",
       "Fine Aggregate        0\n",
       "Age                   0\n",
       "Strength              0\n",
       "dtype: int64"
      ]
     },
     "execution_count": 6,
     "metadata": {},
     "output_type": "execute_result"
    }
   ],
   "source": [
    "concrete_data.isnull().sum()"
   ]
  },
  {
   "cell_type": "markdown",
   "id": "ed3d45b6-5473-44c6-b8cd-77c3c1bbf52c",
   "metadata": {},
   "source": [
    "#### 1.3 Split the data into predictors and target\n"
   ]
  },
  {
   "cell_type": "code",
   "execution_count": 7,
   "id": "bca56259-7fb5-41a5-ba06-82c1352157bb",
   "metadata": {
    "tags": []
   },
   "outputs": [],
   "source": [
    "concrete_data_columns = concrete_data.columns\n",
    "\n",
    "predictors = concrete_data[concrete_data_columns[concrete_data_columns != 'Strength']] # all columns except Strength\n",
    "target = concrete_data['Strength'] # Strength column"
   ]
  },
  {
   "cell_type": "markdown",
   "id": "92a672f0-da83-45b8-ad53-990f25d053ec",
   "metadata": {},
   "source": [
    "Sanity check of the predictors and the target dataframes.\n"
   ]
  },
  {
   "cell_type": "code",
   "execution_count": 8,
   "id": "c9957027-5c81-4f5a-b896-d61640356ea8",
   "metadata": {
    "tags": []
   },
   "outputs": [
    {
     "data": {
      "text/html": [
       "<div>\n",
       "<style scoped>\n",
       "    .dataframe tbody tr th:only-of-type {\n",
       "        vertical-align: middle;\n",
       "    }\n",
       "\n",
       "    .dataframe tbody tr th {\n",
       "        vertical-align: top;\n",
       "    }\n",
       "\n",
       "    .dataframe thead th {\n",
       "        text-align: right;\n",
       "    }\n",
       "</style>\n",
       "<table border=\"1\" class=\"dataframe\">\n",
       "  <thead>\n",
       "    <tr style=\"text-align: right;\">\n",
       "      <th></th>\n",
       "      <th>Cement</th>\n",
       "      <th>Blast Furnace Slag</th>\n",
       "      <th>Fly Ash</th>\n",
       "      <th>Water</th>\n",
       "      <th>Superplasticizer</th>\n",
       "      <th>Coarse Aggregate</th>\n",
       "      <th>Fine Aggregate</th>\n",
       "      <th>Age</th>\n",
       "    </tr>\n",
       "  </thead>\n",
       "  <tbody>\n",
       "    <tr>\n",
       "      <th>0</th>\n",
       "      <td>540.0</td>\n",
       "      <td>0.0</td>\n",
       "      <td>0.0</td>\n",
       "      <td>162.0</td>\n",
       "      <td>2.5</td>\n",
       "      <td>1040.0</td>\n",
       "      <td>676.0</td>\n",
       "      <td>28</td>\n",
       "    </tr>\n",
       "    <tr>\n",
       "      <th>1</th>\n",
       "      <td>540.0</td>\n",
       "      <td>0.0</td>\n",
       "      <td>0.0</td>\n",
       "      <td>162.0</td>\n",
       "      <td>2.5</td>\n",
       "      <td>1055.0</td>\n",
       "      <td>676.0</td>\n",
       "      <td>28</td>\n",
       "    </tr>\n",
       "    <tr>\n",
       "      <th>2</th>\n",
       "      <td>332.5</td>\n",
       "      <td>142.5</td>\n",
       "      <td>0.0</td>\n",
       "      <td>228.0</td>\n",
       "      <td>0.0</td>\n",
       "      <td>932.0</td>\n",
       "      <td>594.0</td>\n",
       "      <td>270</td>\n",
       "    </tr>\n",
       "    <tr>\n",
       "      <th>3</th>\n",
       "      <td>332.5</td>\n",
       "      <td>142.5</td>\n",
       "      <td>0.0</td>\n",
       "      <td>228.0</td>\n",
       "      <td>0.0</td>\n",
       "      <td>932.0</td>\n",
       "      <td>594.0</td>\n",
       "      <td>365</td>\n",
       "    </tr>\n",
       "    <tr>\n",
       "      <th>4</th>\n",
       "      <td>198.6</td>\n",
       "      <td>132.4</td>\n",
       "      <td>0.0</td>\n",
       "      <td>192.0</td>\n",
       "      <td>0.0</td>\n",
       "      <td>978.4</td>\n",
       "      <td>825.5</td>\n",
       "      <td>360</td>\n",
       "    </tr>\n",
       "  </tbody>\n",
       "</table>\n",
       "</div>"
      ],
      "text/plain": [
       "   Cement  Blast Furnace Slag  Fly Ash  Water  Superplasticizer  \\\n",
       "0   540.0                 0.0      0.0  162.0               2.5   \n",
       "1   540.0                 0.0      0.0  162.0               2.5   \n",
       "2   332.5               142.5      0.0  228.0               0.0   \n",
       "3   332.5               142.5      0.0  228.0               0.0   \n",
       "4   198.6               132.4      0.0  192.0               0.0   \n",
       "\n",
       "   Coarse Aggregate  Fine Aggregate  Age  \n",
       "0            1040.0           676.0   28  \n",
       "1            1055.0           676.0   28  \n",
       "2             932.0           594.0  270  \n",
       "3             932.0           594.0  365  \n",
       "4             978.4           825.5  360  "
      ]
     },
     "execution_count": 8,
     "metadata": {},
     "output_type": "execute_result"
    }
   ],
   "source": [
    "predictors.head()"
   ]
  },
  {
   "cell_type": "code",
   "execution_count": 9,
   "id": "73c20d82-d805-4c2a-a784-002173e1828b",
   "metadata": {
    "tags": []
   },
   "outputs": [
    {
     "data": {
      "text/plain": [
       "0    79.99\n",
       "1    61.89\n",
       "2    40.27\n",
       "3    41.05\n",
       "4    44.30\n",
       "Name: Strength, dtype: float64"
      ]
     },
     "execution_count": 9,
     "metadata": {},
     "output_type": "execute_result"
    }
   ],
   "source": [
    "target.head()"
   ]
  },
  {
   "cell_type": "markdown",
   "id": "a4931bc9-602f-48f6-abfd-82cb76a008e7",
   "metadata": {},
   "source": [
    "Normalize the data by substracting the mean and dividing by the standard deviation.\n"
   ]
  },
  {
   "cell_type": "code",
   "execution_count": 10,
   "id": "0ed16f75-7561-4307-8ffd-90af786ce371",
   "metadata": {
    "tags": []
   },
   "outputs": [
    {
     "data": {
      "text/html": [
       "<div>\n",
       "<style scoped>\n",
       "    .dataframe tbody tr th:only-of-type {\n",
       "        vertical-align: middle;\n",
       "    }\n",
       "\n",
       "    .dataframe tbody tr th {\n",
       "        vertical-align: top;\n",
       "    }\n",
       "\n",
       "    .dataframe thead th {\n",
       "        text-align: right;\n",
       "    }\n",
       "</style>\n",
       "<table border=\"1\" class=\"dataframe\">\n",
       "  <thead>\n",
       "    <tr style=\"text-align: right;\">\n",
       "      <th></th>\n",
       "      <th>Cement</th>\n",
       "      <th>Blast Furnace Slag</th>\n",
       "      <th>Fly Ash</th>\n",
       "      <th>Water</th>\n",
       "      <th>Superplasticizer</th>\n",
       "      <th>Coarse Aggregate</th>\n",
       "      <th>Fine Aggregate</th>\n",
       "      <th>Age</th>\n",
       "    </tr>\n",
       "  </thead>\n",
       "  <tbody>\n",
       "    <tr>\n",
       "      <th>0</th>\n",
       "      <td>2.476712</td>\n",
       "      <td>-0.856472</td>\n",
       "      <td>-0.846733</td>\n",
       "      <td>-0.916319</td>\n",
       "      <td>-0.620147</td>\n",
       "      <td>0.862735</td>\n",
       "      <td>-1.217079</td>\n",
       "      <td>-0.279597</td>\n",
       "    </tr>\n",
       "    <tr>\n",
       "      <th>1</th>\n",
       "      <td>2.476712</td>\n",
       "      <td>-0.856472</td>\n",
       "      <td>-0.846733</td>\n",
       "      <td>-0.916319</td>\n",
       "      <td>-0.620147</td>\n",
       "      <td>1.055651</td>\n",
       "      <td>-1.217079</td>\n",
       "      <td>-0.279597</td>\n",
       "    </tr>\n",
       "    <tr>\n",
       "      <th>2</th>\n",
       "      <td>0.491187</td>\n",
       "      <td>0.795140</td>\n",
       "      <td>-0.846733</td>\n",
       "      <td>2.174405</td>\n",
       "      <td>-1.038638</td>\n",
       "      <td>-0.526262</td>\n",
       "      <td>-2.239829</td>\n",
       "      <td>3.551340</td>\n",
       "    </tr>\n",
       "    <tr>\n",
       "      <th>3</th>\n",
       "      <td>0.491187</td>\n",
       "      <td>0.795140</td>\n",
       "      <td>-0.846733</td>\n",
       "      <td>2.174405</td>\n",
       "      <td>-1.038638</td>\n",
       "      <td>-0.526262</td>\n",
       "      <td>-2.239829</td>\n",
       "      <td>5.055221</td>\n",
       "    </tr>\n",
       "    <tr>\n",
       "      <th>4</th>\n",
       "      <td>-0.790075</td>\n",
       "      <td>0.678079</td>\n",
       "      <td>-0.846733</td>\n",
       "      <td>0.488555</td>\n",
       "      <td>-1.038638</td>\n",
       "      <td>0.070492</td>\n",
       "      <td>0.647569</td>\n",
       "      <td>4.976069</td>\n",
       "    </tr>\n",
       "  </tbody>\n",
       "</table>\n",
       "</div>"
      ],
      "text/plain": [
       "     Cement  Blast Furnace Slag   Fly Ash     Water  Superplasticizer  \\\n",
       "0  2.476712           -0.856472 -0.846733 -0.916319         -0.620147   \n",
       "1  2.476712           -0.856472 -0.846733 -0.916319         -0.620147   \n",
       "2  0.491187            0.795140 -0.846733  2.174405         -1.038638   \n",
       "3  0.491187            0.795140 -0.846733  2.174405         -1.038638   \n",
       "4 -0.790075            0.678079 -0.846733  0.488555         -1.038638   \n",
       "\n",
       "   Coarse Aggregate  Fine Aggregate       Age  \n",
       "0          0.862735       -1.217079 -0.279597  \n",
       "1          1.055651       -1.217079 -0.279597  \n",
       "2         -0.526262       -2.239829  3.551340  \n",
       "3         -0.526262       -2.239829  5.055221  \n",
       "4          0.070492        0.647569  4.976069  "
      ]
     },
     "execution_count": 10,
     "metadata": {},
     "output_type": "execute_result"
    }
   ],
   "source": [
    "predictors_norm = (predictors - predictors.mean()) / predictors.std()\n",
    "predictors_norm.head()"
   ]
  },
  {
   "cell_type": "markdown",
   "id": "337d4815-cb28-4b20-a984-28cec61cdf87",
   "metadata": {},
   "source": [
    "Save the number of predictors to *n_cols* since we will need this number when building our network.\n"
   ]
  },
  {
   "cell_type": "code",
   "execution_count": 11,
   "id": "39cea18e-27fd-4600-8ca7-2a2f826b26d9",
   "metadata": {
    "tags": []
   },
   "outputs": [],
   "source": [
    "n_cols = predictors_norm.shape[1] # number of predictors"
   ]
  },
  {
   "cell_type": "markdown",
   "id": "b1cb1c8e-b966-4117-ac6d-67657bab6783",
   "metadata": {},
   "source": [
    "<a id=\"item32\"></a>"
   ]
  },
  {
   "cell_type": "markdown",
   "id": "0428b118-2a7f-43d1-8159-ea5a630cae38",
   "metadata": {},
   "source": [
    "## 2. Import Keras \n",
    "Import Keras and the packages from the Keras library that we will need to build our regression model."
   ]
  },
  {
   "cell_type": "code",
   "execution_count": 12,
   "id": "a8559669-d9eb-42e8-bc1b-900237c6b3c0",
   "metadata": {
    "tags": []
   },
   "outputs": [
    {
     "name": "stderr",
     "output_type": "stream",
     "text": [
      "Using TensorFlow backend.\n",
      "/home/jupyterlab/conda/envs/python/lib/python3.7/site-packages/tensorflow/python/framework/dtypes.py:516: FutureWarning: Passing (type, 1) or '1type' as a synonym of type is deprecated; in a future version of numpy, it will be understood as (type, (1,)) / '(1,)type'.\n",
      "  _np_qint8 = np.dtype([(\"qint8\", np.int8, 1)])\n",
      "/home/jupyterlab/conda/envs/python/lib/python3.7/site-packages/tensorflow/python/framework/dtypes.py:517: FutureWarning: Passing (type, 1) or '1type' as a synonym of type is deprecated; in a future version of numpy, it will be understood as (type, (1,)) / '(1,)type'.\n",
      "  _np_quint8 = np.dtype([(\"quint8\", np.uint8, 1)])\n",
      "/home/jupyterlab/conda/envs/python/lib/python3.7/site-packages/tensorflow/python/framework/dtypes.py:518: FutureWarning: Passing (type, 1) or '1type' as a synonym of type is deprecated; in a future version of numpy, it will be understood as (type, (1,)) / '(1,)type'.\n",
      "  _np_qint16 = np.dtype([(\"qint16\", np.int16, 1)])\n",
      "/home/jupyterlab/conda/envs/python/lib/python3.7/site-packages/tensorflow/python/framework/dtypes.py:519: FutureWarning: Passing (type, 1) or '1type' as a synonym of type is deprecated; in a future version of numpy, it will be understood as (type, (1,)) / '(1,)type'.\n",
      "  _np_quint16 = np.dtype([(\"quint16\", np.uint16, 1)])\n",
      "/home/jupyterlab/conda/envs/python/lib/python3.7/site-packages/tensorflow/python/framework/dtypes.py:520: FutureWarning: Passing (type, 1) or '1type' as a synonym of type is deprecated; in a future version of numpy, it will be understood as (type, (1,)) / '(1,)type'.\n",
      "  _np_qint32 = np.dtype([(\"qint32\", np.int32, 1)])\n",
      "/home/jupyterlab/conda/envs/python/lib/python3.7/site-packages/tensorflow/python/framework/dtypes.py:525: FutureWarning: Passing (type, 1) or '1type' as a synonym of type is deprecated; in a future version of numpy, it will be understood as (type, (1,)) / '(1,)type'.\n",
      "  np_resource = np.dtype([(\"resource\", np.ubyte, 1)])\n",
      "/home/jupyterlab/conda/envs/python/lib/python3.7/site-packages/tensorboard/compat/tensorflow_stub/dtypes.py:541: FutureWarning: Passing (type, 1) or '1type' as a synonym of type is deprecated; in a future version of numpy, it will be understood as (type, (1,)) / '(1,)type'.\n",
      "  _np_qint8 = np.dtype([(\"qint8\", np.int8, 1)])\n",
      "/home/jupyterlab/conda/envs/python/lib/python3.7/site-packages/tensorboard/compat/tensorflow_stub/dtypes.py:542: FutureWarning: Passing (type, 1) or '1type' as a synonym of type is deprecated; in a future version of numpy, it will be understood as (type, (1,)) / '(1,)type'.\n",
      "  _np_quint8 = np.dtype([(\"quint8\", np.uint8, 1)])\n",
      "/home/jupyterlab/conda/envs/python/lib/python3.7/site-packages/tensorboard/compat/tensorflow_stub/dtypes.py:543: FutureWarning: Passing (type, 1) or '1type' as a synonym of type is deprecated; in a future version of numpy, it will be understood as (type, (1,)) / '(1,)type'.\n",
      "  _np_qint16 = np.dtype([(\"qint16\", np.int16, 1)])\n",
      "/home/jupyterlab/conda/envs/python/lib/python3.7/site-packages/tensorboard/compat/tensorflow_stub/dtypes.py:544: FutureWarning: Passing (type, 1) or '1type' as a synonym of type is deprecated; in a future version of numpy, it will be understood as (type, (1,)) / '(1,)type'.\n",
      "  _np_quint16 = np.dtype([(\"quint16\", np.uint16, 1)])\n",
      "/home/jupyterlab/conda/envs/python/lib/python3.7/site-packages/tensorboard/compat/tensorflow_stub/dtypes.py:545: FutureWarning: Passing (type, 1) or '1type' as a synonym of type is deprecated; in a future version of numpy, it will be understood as (type, (1,)) / '(1,)type'.\n",
      "  _np_qint32 = np.dtype([(\"qint32\", np.int32, 1)])\n",
      "/home/jupyterlab/conda/envs/python/lib/python3.7/site-packages/tensorboard/compat/tensorflow_stub/dtypes.py:550: FutureWarning: Passing (type, 1) or '1type' as a synonym of type is deprecated; in a future version of numpy, it will be understood as (type, (1,)) / '(1,)type'.\n",
      "  np_resource = np.dtype([(\"resource\", np.ubyte, 1)])\n"
     ]
    }
   ],
   "source": [
    "import keras"
   ]
  },
  {
   "cell_type": "code",
   "execution_count": 13,
   "id": "09b34ef7-5373-442a-a0be-227c6d55c5de",
   "metadata": {
    "tags": []
   },
   "outputs": [],
   "source": [
    "from keras.models import Sequential\n",
    "from keras.layers import Dense"
   ]
  },
  {
   "cell_type": "markdown",
   "id": "2c96490c-e1b4-4719-93ea-87846f594bb9",
   "metadata": {},
   "source": [
    "<a id=\"item33\"></a>"
   ]
  },
  {
   "cell_type": "markdown",
   "id": "8d6cb5ee-6efc-4a0d-8946-1bc5a73979eb",
   "metadata": {},
   "source": [
    "## 3. Build a Neural Network"
   ]
  },
  {
   "cell_type": "markdown",
   "id": "5ca118ad-5c30-47ac-95ef-c74cf2ac68a3",
   "metadata": {},
   "source": [
    "Define a function that defines our regression model for us so that we can conveniently call it to create our model.\n",
    "\n",
    "- One hidden layer of 10 nodes, and a ReLU activation function\n",
    "\n",
    "- Use the adam optimizer and the mean squared error as the loss function.\n"
   ]
  },
  {
   "cell_type": "code",
   "execution_count": 14,
   "id": "246b9c36-432a-4014-ae09-6a360a23e5d7",
   "metadata": {
    "tags": []
   },
   "outputs": [],
   "source": [
    "# define regression model\n",
    "def regression_model():\n",
    "    # create model\n",
    "    model = Sequential()\n",
    "    model.add(Dense(10, activation='relu', input_shape=(n_cols,)))\n",
    "    model.add(Dense(1))\n",
    "    \n",
    "    # compile model\n",
    "    model.compile(optimizer='adam', loss='mean_squared_error')\n",
    "    return model"
   ]
  },
  {
   "cell_type": "markdown",
   "id": "c55481d8-66b6-4be2-8333-3139320d1c80",
   "metadata": {},
   "source": [
    "Call the function to create our model.\n"
   ]
  },
  {
   "cell_type": "code",
   "execution_count": 15,
   "id": "aa2df696-5ffc-4f81-a9e4-9c33ed95d63a",
   "metadata": {
    "tags": []
   },
   "outputs": [
    {
     "name": "stdout",
     "output_type": "stream",
     "text": [
      "WARNING:tensorflow:From /home/jupyterlab/conda/envs/python/lib/python3.7/site-packages/keras/backend/tensorflow_backend.py:68: The name tf.get_default_graph is deprecated. Please use tf.compat.v1.get_default_graph instead.\n",
      "\n",
      "WARNING:tensorflow:From /home/jupyterlab/conda/envs/python/lib/python3.7/site-packages/keras/backend/tensorflow_backend.py:508: The name tf.placeholder is deprecated. Please use tf.compat.v1.placeholder instead.\n",
      "\n",
      "WARNING:tensorflow:From /home/jupyterlab/conda/envs/python/lib/python3.7/site-packages/keras/backend/tensorflow_backend.py:3837: The name tf.random_uniform is deprecated. Please use tf.random.uniform instead.\n",
      "\n",
      "WARNING:tensorflow:From /home/jupyterlab/conda/envs/python/lib/python3.7/site-packages/keras/optimizers.py:757: The name tf.train.Optimizer is deprecated. Please use tf.compat.v1.train.Optimizer instead.\n",
      "\n"
     ]
    }
   ],
   "source": [
    "# build the model\n",
    "model = regression_model()"
   ]
  },
  {
   "cell_type": "markdown",
   "id": "c46aabea-7ea3-42f8-812f-0fc025ef61eb",
   "metadata": {},
   "source": [
    "<a id=\"item34\"></a>"
   ]
  },
  {
   "cell_type": "markdown",
   "id": "c4838920-1f33-4e10-9642-e6e3a5929aa1",
   "metadata": {},
   "source": [
    "## 4. Train and Test the Network\n"
   ]
  },
  {
   "cell_type": "markdown",
   "id": "528a701a-970e-4dec-ad44-563993335c1a",
   "metadata": {},
   "source": [
    "4.1. Randomly split the data into a training and test sets by holding 30% of the data for testing.  \n",
    "4.2. Train the model on the training data using 100 epochs."
   ]
  },
  {
   "cell_type": "code",
   "execution_count": 16,
   "id": "49fa845a-9020-4f99-8a3c-911e4f54f103",
   "metadata": {
    "tags": []
   },
   "outputs": [
    {
     "name": "stdout",
     "output_type": "stream",
     "text": [
      "WARNING:tensorflow:From /home/jupyterlab/conda/envs/python/lib/python3.7/site-packages/keras/backend/tensorflow_backend.py:977: The name tf.assign_add is deprecated. Please use tf.compat.v1.assign_add instead.\n",
      "\n",
      "WARNING:tensorflow:From /home/jupyterlab/conda/envs/python/lib/python3.7/site-packages/keras/backend/tensorflow_backend.py:964: The name tf.assign is deprecated. Please use tf.compat.v1.assign instead.\n",
      "\n",
      "Train on 721 samples, validate on 309 samples\n",
      "Epoch 1/100\n"
     ]
    },
    {
     "name": "stderr",
     "output_type": "stream",
     "text": [
      "2024-01-06 16:24:13.707979: I tensorflow/core/platform/cpu_feature_guard.cc:142] Your CPU supports instructions that this TensorFlow binary was not compiled to use: SSE4.1 SSE4.2 AVX AVX2 AVX512F FMA\n",
      "2024-01-06 16:24:13.712747: I tensorflow/core/platform/profile_utils/cpu_utils.cc:94] CPU Frequency: 2394295000 Hz\n",
      "2024-01-06 16:24:13.713555: I tensorflow/compiler/xla/service/service.cc:168] XLA service 0x555e70be15b0 executing computations on platform Host. Devices:\n",
      "2024-01-06 16:24:13.713611: I tensorflow/compiler/xla/service/service.cc:175]   StreamExecutor device (0): <undefined>, <undefined>\n",
      "2024-01-06 16:24:13.786856: W tensorflow/compiler/jit/mark_for_compilation_pass.cc:1412] (One-time warning): Not using XLA:CPU for cluster because envvar TF_XLA_FLAGS=--tf_xla_cpu_global_jit was not set.  If you want XLA:CPU, either set that envvar, or use experimental_jit_scope to enable XLA:CPU.  To confirm that XLA is active, pass --vmodule=xla_compilation_cache=1 (as a proper command-line flag, not via TF_XLA_FLAGS) or set the envvar XLA_FLAGS=--xla_hlo_profile.\n"
     ]
    },
    {
     "name": "stdout",
     "output_type": "stream",
     "text": [
      " - 0s - loss: 1679.3390 - val_loss: 1207.3205\n",
      "Epoch 2/100\n",
      " - 0s - loss: 1660.0087 - val_loss: 1197.5431\n",
      "Epoch 3/100\n",
      " - 0s - loss: 1640.0461 - val_loss: 1187.4241\n",
      "Epoch 4/100\n",
      " - 0s - loss: 1619.4950 - val_loss: 1176.7830\n",
      "Epoch 5/100\n",
      " - 0s - loss: 1598.0039 - val_loss: 1165.6024\n",
      "Epoch 6/100\n",
      " - 0s - loss: 1575.1224 - val_loss: 1153.7292\n",
      "Epoch 7/100\n",
      " - 0s - loss: 1551.4470 - val_loss: 1141.0121\n",
      "Epoch 8/100\n",
      " - 0s - loss: 1525.8586 - val_loss: 1127.3273\n",
      "Epoch 9/100\n",
      " - 0s - loss: 1498.8880 - val_loss: 1112.7618\n",
      "Epoch 10/100\n",
      " - 0s - loss: 1469.7266 - val_loss: 1097.3077\n",
      "Epoch 11/100\n",
      " - 0s - loss: 1438.9564 - val_loss: 1080.7729\n",
      "Epoch 12/100\n",
      " - 0s - loss: 1406.5471 - val_loss: 1063.0793\n",
      "Epoch 13/100\n",
      " - 0s - loss: 1372.0701 - val_loss: 1044.1483\n",
      "Epoch 14/100\n",
      " - 0s - loss: 1336.2350 - val_loss: 1024.1089\n",
      "Epoch 15/100\n",
      " - 0s - loss: 1297.8051 - val_loss: 1002.9906\n",
      "Epoch 16/100\n",
      " - 0s - loss: 1258.4231 - val_loss: 980.6749\n",
      "Epoch 17/100\n",
      " - 0s - loss: 1217.6063 - val_loss: 957.5885\n",
      "Epoch 18/100\n",
      " - 0s - loss: 1176.5523 - val_loss: 934.0518\n",
      "Epoch 19/100\n",
      " - 0s - loss: 1134.2440 - val_loss: 909.6480\n",
      "Epoch 20/100\n",
      " - 0s - loss: 1091.6053 - val_loss: 884.7039\n",
      "Epoch 21/100\n",
      " - 0s - loss: 1048.1981 - val_loss: 859.9890\n",
      "Epoch 22/100\n",
      " - 0s - loss: 1005.1557 - val_loss: 834.4417\n",
      "Epoch 23/100\n",
      " - 0s - loss: 961.9942 - val_loss: 809.5685\n",
      "Epoch 24/100\n",
      " - 0s - loss: 920.0146 - val_loss: 783.8826\n",
      "Epoch 25/100\n",
      " - 0s - loss: 877.6365 - val_loss: 758.4023\n",
      "Epoch 26/100\n",
      " - 0s - loss: 836.9728 - val_loss: 733.3183\n",
      "Epoch 27/100\n",
      " - 0s - loss: 796.6092 - val_loss: 708.4651\n",
      "Epoch 28/100\n",
      " - 0s - loss: 757.4062 - val_loss: 684.1174\n",
      "Epoch 29/100\n",
      " - 0s - loss: 720.1986 - val_loss: 660.2718\n",
      "Epoch 30/100\n",
      " - 0s - loss: 683.6976 - val_loss: 637.2119\n",
      "Epoch 31/100\n",
      " - 0s - loss: 649.2630 - val_loss: 614.2871\n",
      "Epoch 32/100\n",
      " - 0s - loss: 616.0022 - val_loss: 592.1241\n",
      "Epoch 33/100\n",
      " - 0s - loss: 584.8147 - val_loss: 570.6902\n",
      "Epoch 34/100\n",
      " - 0s - loss: 555.1144 - val_loss: 550.2845\n",
      "Epoch 35/100\n",
      " - 0s - loss: 527.6528 - val_loss: 530.2246\n",
      "Epoch 36/100\n",
      " - 0s - loss: 501.1652 - val_loss: 511.5145\n",
      "Epoch 37/100\n",
      " - 0s - loss: 476.8594 - val_loss: 492.9148\n",
      "Epoch 38/100\n",
      " - 0s - loss: 454.3313 - val_loss: 474.6348\n",
      "Epoch 39/100\n",
      " - 0s - loss: 432.6276 - val_loss: 458.6398\n",
      "Epoch 40/100\n",
      " - 0s - loss: 413.6594 - val_loss: 442.7117\n",
      "Epoch 41/100\n",
      " - 0s - loss: 395.7462 - val_loss: 427.7431\n",
      "Epoch 42/100\n",
      " - 0s - loss: 378.9942 - val_loss: 413.2507\n",
      "Epoch 43/100\n",
      " - 0s - loss: 364.1829 - val_loss: 399.4922\n",
      "Epoch 44/100\n",
      " - 0s - loss: 350.2571 - val_loss: 386.6787\n",
      "Epoch 45/100\n",
      " - 0s - loss: 337.3611 - val_loss: 374.9652\n",
      "Epoch 46/100\n",
      " - 0s - loss: 326.1157 - val_loss: 363.2480\n",
      "Epoch 47/100\n",
      " - 0s - loss: 315.5496 - val_loss: 352.6050\n",
      "Epoch 48/100\n",
      " - 0s - loss: 305.9775 - val_loss: 342.4386\n",
      "Epoch 49/100\n",
      " - 0s - loss: 297.5752 - val_loss: 332.6311\n",
      "Epoch 50/100\n",
      " - 0s - loss: 289.4922 - val_loss: 323.5585\n",
      "Epoch 51/100\n",
      " - 0s - loss: 282.0292 - val_loss: 315.8887\n",
      "Epoch 52/100\n",
      " - 0s - loss: 275.4954 - val_loss: 307.1709\n",
      "Epoch 53/100\n",
      " - 0s - loss: 269.0350 - val_loss: 299.7639\n",
      "Epoch 54/100\n",
      " - 0s - loss: 263.4805 - val_loss: 292.6347\n",
      "Epoch 55/100\n",
      " - 0s - loss: 258.0513 - val_loss: 286.4943\n",
      "Epoch 56/100\n",
      " - 0s - loss: 253.3297 - val_loss: 280.2385\n",
      "Epoch 57/100\n",
      " - 0s - loss: 248.7868 - val_loss: 274.5654\n",
      "Epoch 58/100\n",
      " - 0s - loss: 244.5929 - val_loss: 269.4235\n",
      "Epoch 59/100\n",
      " - 0s - loss: 240.7997 - val_loss: 264.7281\n",
      "Epoch 60/100\n",
      " - 0s - loss: 237.2146 - val_loss: 260.4925\n",
      "Epoch 61/100\n",
      " - 0s - loss: 233.7665 - val_loss: 256.1736\n",
      "Epoch 62/100\n",
      " - 0s - loss: 230.7236 - val_loss: 251.7888\n",
      "Epoch 63/100\n",
      " - 0s - loss: 227.8109 - val_loss: 248.0803\n",
      "Epoch 64/100\n",
      " - 0s - loss: 224.9295 - val_loss: 245.1967\n",
      "Epoch 65/100\n",
      " - 0s - loss: 222.3786 - val_loss: 242.6879\n",
      "Epoch 66/100\n",
      " - 0s - loss: 219.9124 - val_loss: 239.7010\n",
      "Epoch 67/100\n",
      " - 0s - loss: 217.4071 - val_loss: 237.1088\n",
      "Epoch 68/100\n",
      " - 0s - loss: 215.1594 - val_loss: 234.3388\n",
      "Epoch 69/100\n",
      " - 0s - loss: 212.9208 - val_loss: 231.8713\n",
      "Epoch 70/100\n",
      " - 0s - loss: 210.8733 - val_loss: 229.8266\n",
      "Epoch 71/100\n",
      " - 0s - loss: 208.8821 - val_loss: 227.6280\n",
      "Epoch 72/100\n",
      " - 0s - loss: 206.8909 - val_loss: 226.4614\n",
      "Epoch 73/100\n",
      " - 0s - loss: 205.1071 - val_loss: 223.7467\n",
      "Epoch 74/100\n",
      " - 0s - loss: 203.2819 - val_loss: 222.3303\n",
      "Epoch 75/100\n",
      " - 0s - loss: 201.5672 - val_loss: 220.5020\n",
      "Epoch 76/100\n",
      " - 0s - loss: 199.9198 - val_loss: 219.0837\n",
      "Epoch 77/100\n",
      " - 0s - loss: 198.3009 - val_loss: 217.2740\n",
      "Epoch 78/100\n",
      " - 0s - loss: 196.6826 - val_loss: 216.3555\n",
      "Epoch 79/100\n",
      " - 0s - loss: 195.1390 - val_loss: 214.5768\n",
      "Epoch 80/100\n",
      " - 0s - loss: 193.6153 - val_loss: 213.3254\n",
      "Epoch 81/100\n",
      " - 0s - loss: 192.1751 - val_loss: 211.8007\n",
      "Epoch 82/100\n",
      " - 0s - loss: 190.8393 - val_loss: 210.8443\n",
      "Epoch 83/100\n",
      " - 0s - loss: 189.3871 - val_loss: 209.3247\n",
      "Epoch 84/100\n",
      " - 0s - loss: 188.1376 - val_loss: 208.4159\n",
      "Epoch 85/100\n",
      " - 0s - loss: 186.8560 - val_loss: 207.0346\n",
      "Epoch 86/100\n",
      " - 0s - loss: 185.4984 - val_loss: 205.7322\n",
      "Epoch 87/100\n",
      " - 0s - loss: 184.2711 - val_loss: 204.4133\n",
      "Epoch 88/100\n",
      " - 0s - loss: 183.1656 - val_loss: 203.6677\n",
      "Epoch 89/100\n",
      " - 0s - loss: 181.8643 - val_loss: 202.3961\n",
      "Epoch 90/100\n",
      " - 0s - loss: 180.7527 - val_loss: 201.4193\n",
      "Epoch 91/100\n",
      " - 0s - loss: 179.5825 - val_loss: 200.5741\n",
      "Epoch 92/100\n",
      " - 0s - loss: 178.4725 - val_loss: 199.0313\n",
      "Epoch 93/100\n",
      " - 0s - loss: 177.3201 - val_loss: 198.3695\n",
      "Epoch 94/100\n",
      " - 0s - loss: 176.1566 - val_loss: 197.4446\n",
      "Epoch 95/100\n",
      " - 0s - loss: 175.0796 - val_loss: 196.1031\n",
      "Epoch 96/100\n",
      " - 0s - loss: 173.9870 - val_loss: 195.0034\n",
      "Epoch 97/100\n",
      " - 0s - loss: 173.0261 - val_loss: 193.4169\n",
      "Epoch 98/100\n",
      " - 0s - loss: 171.9720 - val_loss: 192.7113\n",
      "Epoch 99/100\n",
      " - 0s - loss: 170.8537 - val_loss: 191.5440\n",
      "Epoch 100/100\n",
      " - 0s - loss: 169.8509 - val_loss: 190.3105\n"
     ]
    },
    {
     "data": {
      "text/plain": [
       "<keras.callbacks.History at 0x7f309d57a810>"
      ]
     },
     "execution_count": 16,
     "metadata": {},
     "output_type": "execute_result"
    }
   ],
   "source": [
    "# fit the model\n",
    "model.fit(predictors_norm, target, validation_split=0.3, epochs=100, verbose=2)"
   ]
  },
  {
   "cell_type": "markdown",
   "id": "f1d263ce-a4be-486b-a24c-0c0da770b564",
   "metadata": {
    "tags": []
   },
   "source": [
    "<a id=\"item35\"></a>"
   ]
  },
  {
   "cell_type": "markdown",
   "id": "43c3550a-f4ed-44e6-8336-a4513fda1bc5",
   "metadata": {},
   "source": [
    "## 5. Evaluate the model"
   ]
  },
  {
   "cell_type": "markdown",
   "id": "6e28dc50-ca50-4b86-8d01-10cc5cc2723d",
   "metadata": {},
   "source": [
    "5.1. Evaluate the model on the test data and compute the mean squared error between the predicted concrete strength and the actual concrete strength.    "
   ]
  },
  {
   "cell_type": "code",
   "execution_count": 17,
   "id": "aac06062-9e5c-4948-84c1-fe82cb9c2192",
   "metadata": {
    "tags": []
   },
   "outputs": [
    {
     "name": "stderr",
     "output_type": "stream",
     "text": [
      "/home/jupyterlab/conda/envs/python/lib/python3.7/site-packages/sklearn/utils/validation.py:37: DeprecationWarning: distutils Version classes are deprecated. Use packaging.version instead.\n",
      "  LARGE_SPARSE_SUPPORTED = LooseVersion(scipy_version) >= '0.14.0'\n"
     ]
    },
    {
     "name": "stdout",
     "output_type": "stream",
     "text": [
      "Mean Squared Error: 175.50722778361376\n"
     ]
    }
   ],
   "source": [
    "## evaluate the model\n",
    "from sklearn.metrics import mean_squared_error\n",
    "\n",
    "# y_pred are the predictions of the model with the test data \n",
    "y_pred = model.predict(predictors_norm)\n",
    "\n",
    "# Calculate Mean Squared Error (MSE) \n",
    "mse = mean_squared_error(target, y_pred)\n",
    "\n",
    "print(f'Mean Squared Error: {mse}')"
   ]
  },
  {
   "cell_type": "markdown",
   "id": "4b8755e9-65f7-49e5-a8b3-1a2fd3cb6efa",
   "metadata": {
    "tags": []
   },
   "source": [
    "5.2. Repeat steps 4.1, 4.2 and 5.1, 50 times, i.e., create a list of 50 mean squared errors."
   ]
  },
  {
   "cell_type": "code",
   "execution_count": 18,
   "id": "2660dbaf-6e38-4591-a714-85274e69de33",
   "metadata": {
    "tags": []
   },
   "outputs": [
    {
     "name": "stdout",
     "output_type": "stream",
     "text": [
      "List of Mean Squared Errors:\n",
      "[99.79513585368106, 80.94396168684901, 70.99973009730063, 65.83502999432223, 62.59416328585424, 51.02493607982759, 47.1399277177244, 45.709023050745515, 45.486046610221024, 45.46562378095759, 45.03510384595953, 45.332249045187204, 45.20503143119364, 45.81519820084369, 45.666763524766225, 46.21489246316569, 46.692144329833425, 46.60699408121517, 46.945341248050795, 47.48152453014371, 48.13290954828333, 48.35653661056986, 48.47724313663563, 47.84034800254249, 47.177404933632566, 47.014786131880335, 46.87983551608556, 46.289899999439434, 46.5321495124165, 46.315854782161495, 45.62894726997997, 45.57316551580885, 44.842546127878684, 44.65086970458784, 44.76527432246633, 44.65206058911554, 44.549364048224554, 44.68602243590618, 45.01094630109812, 44.87680185716431, 44.35436687885149, 43.6476247347145, 42.94696185912526, 43.19993841767822, 43.22313651884332, 43.38344416037736, 43.72607455634958, 43.635586458100015, 44.3426255975094, 44.384818536343616]\n"
     ]
    }
   ],
   "source": [
    "num_repeats = 50\n",
    "mse_list = []\n",
    "for _ in range(num_repeats):\n",
    "    \n",
    "    model.fit(predictors_norm, target, validation_split=0.3, epochs=100, verbose=0)\n",
    "    y_pred = model.predict(predictors_norm)\n",
    "    mse = mean_squared_error(target, y_pred)\n",
    "    # Add MSE to the list\n",
    "    mse_list.append(mse)\n",
    "\n",
    "print(\"List of Mean Squared Errors:\")\n",
    "print(mse_list)"
   ]
  },
  {
   "cell_type": "markdown",
   "id": "d2c8c1c4-f86e-4815-861a-9165431b41fe",
   "metadata": {
    "tags": []
   },
   "source": [
    "5.3. Report the mean and the standard deviation of the mean squared errors."
   ]
  },
  {
   "cell_type": "code",
   "execution_count": 19,
   "id": "1456be7d-2157-4e59-be04-37dd162245f8",
   "metadata": {
    "tags": []
   },
   "outputs": [
    {
     "name": "stdout",
     "output_type": "stream",
     "text": [
      "Mean of Mean Squared Errors: 48.70172729843226\n",
      "Standard Deviation of Mean Squared Errors: 10.16797378110146\n"
     ]
    }
   ],
   "source": [
    "mean_mse = np.mean(mse_list)\n",
    "std_mse = np.std(mse_list)\n",
    "\n",
    "print(f\"Mean of Mean Squared Errors: {mean_mse}\")\n",
    "print(f\"Standard Deviation of Mean Squared Errors: {std_mse}\")"
   ]
  },
  {
   "cell_type": "markdown",
   "id": "204c390a-bdaa-4a32-915b-4336f8827887",
   "metadata": {
    "tags": []
   },
   "source": [
    "Mean of Mean Squared Errors: 48.70172729843226  \n",
    "Standard Deviation of Mean Squared Errors: 10.16797378110146\n",
    "\n",
    "Increasing the number of epochs to 100 results in a significant decrease in the mean MSE (from 68.37 to 48.70). The reduction in standard deviation indicates greater consistency in performance across different runs."
   ]
  },
  {
   "cell_type": "code",
   "execution_count": null,
   "id": "08e6630b-ac79-48bc-b3f6-e547a83c9deb",
   "metadata": {},
   "outputs": [],
   "source": []
  }
 ],
 "metadata": {
  "kernelspec": {
   "display_name": "Python",
   "language": "python",
   "name": "conda-env-python-py"
  },
  "language_info": {
   "codemirror_mode": {
    "name": "ipython",
    "version": 3
   },
   "file_extension": ".py",
   "mimetype": "text/x-python",
   "name": "python",
   "nbconvert_exporter": "python",
   "pygments_lexer": "ipython3",
   "version": "3.7.12"
  }
 },
 "nbformat": 4,
 "nbformat_minor": 5
}
