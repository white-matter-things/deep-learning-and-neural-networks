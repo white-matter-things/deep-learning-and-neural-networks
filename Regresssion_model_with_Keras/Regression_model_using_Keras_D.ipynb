{
 "cells": [
  {
   "cell_type": "markdown",
   "id": "e158b380-c738-4a22-ae33-1a6fa917fde0",
   "metadata": {
    "tags": []
   },
   "source": [
    "<h2>Regression Models with Keras. Part D</h2>\n",
    "<h3>Objective for this Notebook:</h3>    \n",
    "Repeat Regression Models with Keras Part B but use a neural network with the following instead:  \n",
    "\n",
    "- Three hidden layers, each of 10 nodes and ReLU activation function.  \n",
    "\n",
    "How does the mean of the mean squared errors compare to that from Step B?  \n",
    "<h3>Concrete Data:</h3>    \n",
    "The data can be found here: \n",
    "https://cocl.us/concrete_data\n",
    "   \n",
    " \n",
    "       \n"
   ]
  },
  {
   "cell_type": "markdown",
   "id": "dad000f6-3b96-4c98-9684-8bb5522a090c",
   "metadata": {},
   "source": [
    "## Table of Contents\n",
    "\n",
    "<div class=\"alert alert-block alert-info\" style=\"margin-top: 20px\">\n",
    "\n",
    "<font size = 3>\n",
    "    \n",
    "1. <a href=\"#item41\">Prepare the data: Download, Clean and Split the Dataset     \n",
    "2. <a href=\"#item42\">Import Keras</a>  \n",
    "3. <a href=\"#item43\">Build a Neural Network</a>  \n",
    "4. <a href=\"#item44\">Train and Test the Network</a>  \n",
    "5. <a href=\"#item45\">Evaluate the model</a>      \n",
    "\n",
    "</font>\n",
    "</div>\n"
   ]
  },
  {
   "cell_type": "markdown",
   "id": "dbcf02d4-4c78-47be-a3b9-07e8eadc16d7",
   "metadata": {},
   "source": [
    "<a id=\"item41\"></a>"
   ]
  },
  {
   "cell_type": "markdown",
   "id": "c5ba0903-b30f-4eec-b8e7-bcbcaa33ab54",
   "metadata": {
    "tags": []
   },
   "source": [
    "## 1. Prepare the data: Download, Check and Split the Dataset"
   ]
  },
  {
   "cell_type": "markdown",
   "id": "df9ec73c-49f3-4068-b6c3-fee87be0bc4f",
   "metadata": {
    "tags": []
   },
   "source": [
    "#### 1.1 Download the data "
   ]
  },
  {
   "cell_type": "markdown",
   "id": "27561b7e-0388-45d4-a417-427e0564ddd1",
   "metadata": {},
   "source": [
    "Import the <em>pandas</em> and the Numpy libraries.\n"
   ]
  },
  {
   "cell_type": "code",
   "execution_count": 1,
   "id": "55d28b19-b023-4d8a-8703-c469f85b3367",
   "metadata": {
    "tags": []
   },
   "outputs": [],
   "source": [
    "# Uncomment the following if running on desktop:\n",
    "#!pip install numpy==1.21.4\n",
    "#!pip install pandas==1.3.4\n",
    "#!pip install keras==2.1.6"
   ]
  },
  {
   "cell_type": "code",
   "execution_count": 2,
   "id": "0765cc84-4414-4fc2-9715-ad2bd6faa36e",
   "metadata": {
    "tags": []
   },
   "outputs": [],
   "source": [
    "import pandas as pd\n",
    "import numpy as np"
   ]
  },
  {
   "cell_type": "markdown",
   "id": "b99b5601-759a-4507-8f42-b4e558a7fabb",
   "metadata": {},
   "source": [
    "Download the data and read it into a <em>pandas</em> dataframe."
   ]
  },
  {
   "cell_type": "code",
   "execution_count": 3,
   "id": "c53c9dc8-ddc8-4d77-9686-24a9cdf2d1f5",
   "metadata": {
    "tags": []
   },
   "outputs": [
    {
     "data": {
      "text/html": [
       "<div>\n",
       "<style scoped>\n",
       "    .dataframe tbody tr th:only-of-type {\n",
       "        vertical-align: middle;\n",
       "    }\n",
       "\n",
       "    .dataframe tbody tr th {\n",
       "        vertical-align: top;\n",
       "    }\n",
       "\n",
       "    .dataframe thead th {\n",
       "        text-align: right;\n",
       "    }\n",
       "</style>\n",
       "<table border=\"1\" class=\"dataframe\">\n",
       "  <thead>\n",
       "    <tr style=\"text-align: right;\">\n",
       "      <th></th>\n",
       "      <th>Cement</th>\n",
       "      <th>Blast Furnace Slag</th>\n",
       "      <th>Fly Ash</th>\n",
       "      <th>Water</th>\n",
       "      <th>Superplasticizer</th>\n",
       "      <th>Coarse Aggregate</th>\n",
       "      <th>Fine Aggregate</th>\n",
       "      <th>Age</th>\n",
       "      <th>Strength</th>\n",
       "    </tr>\n",
       "  </thead>\n",
       "  <tbody>\n",
       "    <tr>\n",
       "      <th>0</th>\n",
       "      <td>540.0</td>\n",
       "      <td>0.0</td>\n",
       "      <td>0.0</td>\n",
       "      <td>162.0</td>\n",
       "      <td>2.5</td>\n",
       "      <td>1040.0</td>\n",
       "      <td>676.0</td>\n",
       "      <td>28</td>\n",
       "      <td>79.99</td>\n",
       "    </tr>\n",
       "    <tr>\n",
       "      <th>1</th>\n",
       "      <td>540.0</td>\n",
       "      <td>0.0</td>\n",
       "      <td>0.0</td>\n",
       "      <td>162.0</td>\n",
       "      <td>2.5</td>\n",
       "      <td>1055.0</td>\n",
       "      <td>676.0</td>\n",
       "      <td>28</td>\n",
       "      <td>61.89</td>\n",
       "    </tr>\n",
       "    <tr>\n",
       "      <th>2</th>\n",
       "      <td>332.5</td>\n",
       "      <td>142.5</td>\n",
       "      <td>0.0</td>\n",
       "      <td>228.0</td>\n",
       "      <td>0.0</td>\n",
       "      <td>932.0</td>\n",
       "      <td>594.0</td>\n",
       "      <td>270</td>\n",
       "      <td>40.27</td>\n",
       "    </tr>\n",
       "    <tr>\n",
       "      <th>3</th>\n",
       "      <td>332.5</td>\n",
       "      <td>142.5</td>\n",
       "      <td>0.0</td>\n",
       "      <td>228.0</td>\n",
       "      <td>0.0</td>\n",
       "      <td>932.0</td>\n",
       "      <td>594.0</td>\n",
       "      <td>365</td>\n",
       "      <td>41.05</td>\n",
       "    </tr>\n",
       "    <tr>\n",
       "      <th>4</th>\n",
       "      <td>198.6</td>\n",
       "      <td>132.4</td>\n",
       "      <td>0.0</td>\n",
       "      <td>192.0</td>\n",
       "      <td>0.0</td>\n",
       "      <td>978.4</td>\n",
       "      <td>825.5</td>\n",
       "      <td>360</td>\n",
       "      <td>44.30</td>\n",
       "    </tr>\n",
       "  </tbody>\n",
       "</table>\n",
       "</div>"
      ],
      "text/plain": [
       "   Cement  Blast Furnace Slag  Fly Ash  Water  Superplasticizer  \\\n",
       "0   540.0                 0.0      0.0  162.0               2.5   \n",
       "1   540.0                 0.0      0.0  162.0               2.5   \n",
       "2   332.5               142.5      0.0  228.0               0.0   \n",
       "3   332.5               142.5      0.0  228.0               0.0   \n",
       "4   198.6               132.4      0.0  192.0               0.0   \n",
       "\n",
       "   Coarse Aggregate  Fine Aggregate  Age  Strength  \n",
       "0            1040.0           676.0   28     79.99  \n",
       "1            1055.0           676.0   28     61.89  \n",
       "2             932.0           594.0  270     40.27  \n",
       "3             932.0           594.0  365     41.05  \n",
       "4             978.4           825.5  360     44.30  "
      ]
     },
     "execution_count": 3,
     "metadata": {},
     "output_type": "execute_result"
    }
   ],
   "source": [
    "concrete_data = pd.read_csv('https://s3-api.us-geo.objectstorage.softlayer.net/cf-courses-data/CognitiveClass/DL0101EN/labs/data/concrete_data.csv')\n",
    "concrete_data.head()"
   ]
  },
  {
   "cell_type": "markdown",
   "id": "119c938a-91de-472b-b5ee-e811b9d588e3",
   "metadata": {},
   "source": [
    "The dataset is about the compressive strength of different samples of concrete based on the volumes of the different ingredients that were used to make them. Ingredients include:\n",
    "\n",
    "1. Cement\n",
    "2. Blast Furnace Slag\n",
    "3. Fly Ash\n",
    "4. Water\n",
    "5. Superplasticizer\n",
    "6. Coarse Aggregate\n",
    "7. Fine Aggregate\n"
   ]
  },
  {
   "cell_type": "markdown",
   "id": "0cc114e1-7368-4c13-88e5-c966c9901ddb",
   "metadata": {
    "tags": []
   },
   "source": [
    "#### 1.2 Check the data "
   ]
  },
  {
   "cell_type": "markdown",
   "id": "612b70cf-6719-4df4-b112-a9ea21bab9ed",
   "metadata": {
    "tags": []
   },
   "source": [
    "Check how many data points we have."
   ]
  },
  {
   "cell_type": "code",
   "execution_count": 4,
   "id": "f229bb30-9b4f-43ca-bdb4-d170f612bd59",
   "metadata": {
    "tags": []
   },
   "outputs": [
    {
     "data": {
      "text/plain": [
       "(1030, 9)"
      ]
     },
     "execution_count": 4,
     "metadata": {},
     "output_type": "execute_result"
    }
   ],
   "source": [
    "concrete_data.shape"
   ]
  },
  {
   "cell_type": "markdown",
   "id": "107124e1-a196-406a-b6eb-628259f8174a",
   "metadata": {},
   "source": [
    "Check the dataset for any missing values."
   ]
  },
  {
   "cell_type": "code",
   "execution_count": 5,
   "id": "7988a885-df60-4ce3-9a88-3972db3b6389",
   "metadata": {
    "tags": []
   },
   "outputs": [
    {
     "data": {
      "text/html": [
       "<div>\n",
       "<style scoped>\n",
       "    .dataframe tbody tr th:only-of-type {\n",
       "        vertical-align: middle;\n",
       "    }\n",
       "\n",
       "    .dataframe tbody tr th {\n",
       "        vertical-align: top;\n",
       "    }\n",
       "\n",
       "    .dataframe thead th {\n",
       "        text-align: right;\n",
       "    }\n",
       "</style>\n",
       "<table border=\"1\" class=\"dataframe\">\n",
       "  <thead>\n",
       "    <tr style=\"text-align: right;\">\n",
       "      <th></th>\n",
       "      <th>Cement</th>\n",
       "      <th>Blast Furnace Slag</th>\n",
       "      <th>Fly Ash</th>\n",
       "      <th>Water</th>\n",
       "      <th>Superplasticizer</th>\n",
       "      <th>Coarse Aggregate</th>\n",
       "      <th>Fine Aggregate</th>\n",
       "      <th>Age</th>\n",
       "      <th>Strength</th>\n",
       "    </tr>\n",
       "  </thead>\n",
       "  <tbody>\n",
       "    <tr>\n",
       "      <th>count</th>\n",
       "      <td>1030.000000</td>\n",
       "      <td>1030.000000</td>\n",
       "      <td>1030.000000</td>\n",
       "      <td>1030.000000</td>\n",
       "      <td>1030.000000</td>\n",
       "      <td>1030.000000</td>\n",
       "      <td>1030.000000</td>\n",
       "      <td>1030.000000</td>\n",
       "      <td>1030.000000</td>\n",
       "    </tr>\n",
       "    <tr>\n",
       "      <th>mean</th>\n",
       "      <td>281.167864</td>\n",
       "      <td>73.895825</td>\n",
       "      <td>54.188350</td>\n",
       "      <td>181.567282</td>\n",
       "      <td>6.204660</td>\n",
       "      <td>972.918932</td>\n",
       "      <td>773.580485</td>\n",
       "      <td>45.662136</td>\n",
       "      <td>35.817961</td>\n",
       "    </tr>\n",
       "    <tr>\n",
       "      <th>std</th>\n",
       "      <td>104.506364</td>\n",
       "      <td>86.279342</td>\n",
       "      <td>63.997004</td>\n",
       "      <td>21.354219</td>\n",
       "      <td>5.973841</td>\n",
       "      <td>77.753954</td>\n",
       "      <td>80.175980</td>\n",
       "      <td>63.169912</td>\n",
       "      <td>16.705742</td>\n",
       "    </tr>\n",
       "    <tr>\n",
       "      <th>min</th>\n",
       "      <td>102.000000</td>\n",
       "      <td>0.000000</td>\n",
       "      <td>0.000000</td>\n",
       "      <td>121.800000</td>\n",
       "      <td>0.000000</td>\n",
       "      <td>801.000000</td>\n",
       "      <td>594.000000</td>\n",
       "      <td>1.000000</td>\n",
       "      <td>2.330000</td>\n",
       "    </tr>\n",
       "    <tr>\n",
       "      <th>25%</th>\n",
       "      <td>192.375000</td>\n",
       "      <td>0.000000</td>\n",
       "      <td>0.000000</td>\n",
       "      <td>164.900000</td>\n",
       "      <td>0.000000</td>\n",
       "      <td>932.000000</td>\n",
       "      <td>730.950000</td>\n",
       "      <td>7.000000</td>\n",
       "      <td>23.710000</td>\n",
       "    </tr>\n",
       "    <tr>\n",
       "      <th>50%</th>\n",
       "      <td>272.900000</td>\n",
       "      <td>22.000000</td>\n",
       "      <td>0.000000</td>\n",
       "      <td>185.000000</td>\n",
       "      <td>6.400000</td>\n",
       "      <td>968.000000</td>\n",
       "      <td>779.500000</td>\n",
       "      <td>28.000000</td>\n",
       "      <td>34.445000</td>\n",
       "    </tr>\n",
       "    <tr>\n",
       "      <th>75%</th>\n",
       "      <td>350.000000</td>\n",
       "      <td>142.950000</td>\n",
       "      <td>118.300000</td>\n",
       "      <td>192.000000</td>\n",
       "      <td>10.200000</td>\n",
       "      <td>1029.400000</td>\n",
       "      <td>824.000000</td>\n",
       "      <td>56.000000</td>\n",
       "      <td>46.135000</td>\n",
       "    </tr>\n",
       "    <tr>\n",
       "      <th>max</th>\n",
       "      <td>540.000000</td>\n",
       "      <td>359.400000</td>\n",
       "      <td>200.100000</td>\n",
       "      <td>247.000000</td>\n",
       "      <td>32.200000</td>\n",
       "      <td>1145.000000</td>\n",
       "      <td>992.600000</td>\n",
       "      <td>365.000000</td>\n",
       "      <td>82.600000</td>\n",
       "    </tr>\n",
       "  </tbody>\n",
       "</table>\n",
       "</div>"
      ],
      "text/plain": [
       "            Cement  Blast Furnace Slag      Fly Ash        Water  \\\n",
       "count  1030.000000         1030.000000  1030.000000  1030.000000   \n",
       "mean    281.167864           73.895825    54.188350   181.567282   \n",
       "std     104.506364           86.279342    63.997004    21.354219   \n",
       "min     102.000000            0.000000     0.000000   121.800000   \n",
       "25%     192.375000            0.000000     0.000000   164.900000   \n",
       "50%     272.900000           22.000000     0.000000   185.000000   \n",
       "75%     350.000000          142.950000   118.300000   192.000000   \n",
       "max     540.000000          359.400000   200.100000   247.000000   \n",
       "\n",
       "       Superplasticizer  Coarse Aggregate  Fine Aggregate          Age  \\\n",
       "count       1030.000000       1030.000000     1030.000000  1030.000000   \n",
       "mean           6.204660        972.918932      773.580485    45.662136   \n",
       "std            5.973841         77.753954       80.175980    63.169912   \n",
       "min            0.000000        801.000000      594.000000     1.000000   \n",
       "25%            0.000000        932.000000      730.950000     7.000000   \n",
       "50%            6.400000        968.000000      779.500000    28.000000   \n",
       "75%           10.200000       1029.400000      824.000000    56.000000   \n",
       "max           32.200000       1145.000000      992.600000   365.000000   \n",
       "\n",
       "          Strength  \n",
       "count  1030.000000  \n",
       "mean     35.817961  \n",
       "std      16.705742  \n",
       "min       2.330000  \n",
       "25%      23.710000  \n",
       "50%      34.445000  \n",
       "75%      46.135000  \n",
       "max      82.600000  "
      ]
     },
     "execution_count": 5,
     "metadata": {},
     "output_type": "execute_result"
    }
   ],
   "source": [
    "concrete_data.describe()"
   ]
  },
  {
   "cell_type": "code",
   "execution_count": 6,
   "id": "55bc0eda-46d7-4d63-81d6-686dc73c7737",
   "metadata": {
    "tags": []
   },
   "outputs": [
    {
     "data": {
      "text/plain": [
       "Cement                0\n",
       "Blast Furnace Slag    0\n",
       "Fly Ash               0\n",
       "Water                 0\n",
       "Superplasticizer      0\n",
       "Coarse Aggregate      0\n",
       "Fine Aggregate        0\n",
       "Age                   0\n",
       "Strength              0\n",
       "dtype: int64"
      ]
     },
     "execution_count": 6,
     "metadata": {},
     "output_type": "execute_result"
    }
   ],
   "source": [
    "concrete_data.isnull().sum()"
   ]
  },
  {
   "cell_type": "markdown",
   "id": "ed3d45b6-5473-44c6-b8cd-77c3c1bbf52c",
   "metadata": {},
   "source": [
    "#### 1.3 Split the data into predictors and target\n"
   ]
  },
  {
   "cell_type": "code",
   "execution_count": 7,
   "id": "bca56259-7fb5-41a5-ba06-82c1352157bb",
   "metadata": {
    "tags": []
   },
   "outputs": [],
   "source": [
    "concrete_data_columns = concrete_data.columns\n",
    "\n",
    "predictors = concrete_data[concrete_data_columns[concrete_data_columns != 'Strength']] # all columns except Strength\n",
    "target = concrete_data['Strength'] # Strength column"
   ]
  },
  {
   "cell_type": "markdown",
   "id": "92a672f0-da83-45b8-ad53-990f25d053ec",
   "metadata": {},
   "source": [
    "Sanity check of the predictors and the target dataframes.\n"
   ]
  },
  {
   "cell_type": "code",
   "execution_count": 8,
   "id": "c9957027-5c81-4f5a-b896-d61640356ea8",
   "metadata": {
    "tags": []
   },
   "outputs": [
    {
     "data": {
      "text/html": [
       "<div>\n",
       "<style scoped>\n",
       "    .dataframe tbody tr th:only-of-type {\n",
       "        vertical-align: middle;\n",
       "    }\n",
       "\n",
       "    .dataframe tbody tr th {\n",
       "        vertical-align: top;\n",
       "    }\n",
       "\n",
       "    .dataframe thead th {\n",
       "        text-align: right;\n",
       "    }\n",
       "</style>\n",
       "<table border=\"1\" class=\"dataframe\">\n",
       "  <thead>\n",
       "    <tr style=\"text-align: right;\">\n",
       "      <th></th>\n",
       "      <th>Cement</th>\n",
       "      <th>Blast Furnace Slag</th>\n",
       "      <th>Fly Ash</th>\n",
       "      <th>Water</th>\n",
       "      <th>Superplasticizer</th>\n",
       "      <th>Coarse Aggregate</th>\n",
       "      <th>Fine Aggregate</th>\n",
       "      <th>Age</th>\n",
       "    </tr>\n",
       "  </thead>\n",
       "  <tbody>\n",
       "    <tr>\n",
       "      <th>0</th>\n",
       "      <td>540.0</td>\n",
       "      <td>0.0</td>\n",
       "      <td>0.0</td>\n",
       "      <td>162.0</td>\n",
       "      <td>2.5</td>\n",
       "      <td>1040.0</td>\n",
       "      <td>676.0</td>\n",
       "      <td>28</td>\n",
       "    </tr>\n",
       "    <tr>\n",
       "      <th>1</th>\n",
       "      <td>540.0</td>\n",
       "      <td>0.0</td>\n",
       "      <td>0.0</td>\n",
       "      <td>162.0</td>\n",
       "      <td>2.5</td>\n",
       "      <td>1055.0</td>\n",
       "      <td>676.0</td>\n",
       "      <td>28</td>\n",
       "    </tr>\n",
       "    <tr>\n",
       "      <th>2</th>\n",
       "      <td>332.5</td>\n",
       "      <td>142.5</td>\n",
       "      <td>0.0</td>\n",
       "      <td>228.0</td>\n",
       "      <td>0.0</td>\n",
       "      <td>932.0</td>\n",
       "      <td>594.0</td>\n",
       "      <td>270</td>\n",
       "    </tr>\n",
       "    <tr>\n",
       "      <th>3</th>\n",
       "      <td>332.5</td>\n",
       "      <td>142.5</td>\n",
       "      <td>0.0</td>\n",
       "      <td>228.0</td>\n",
       "      <td>0.0</td>\n",
       "      <td>932.0</td>\n",
       "      <td>594.0</td>\n",
       "      <td>365</td>\n",
       "    </tr>\n",
       "    <tr>\n",
       "      <th>4</th>\n",
       "      <td>198.6</td>\n",
       "      <td>132.4</td>\n",
       "      <td>0.0</td>\n",
       "      <td>192.0</td>\n",
       "      <td>0.0</td>\n",
       "      <td>978.4</td>\n",
       "      <td>825.5</td>\n",
       "      <td>360</td>\n",
       "    </tr>\n",
       "  </tbody>\n",
       "</table>\n",
       "</div>"
      ],
      "text/plain": [
       "   Cement  Blast Furnace Slag  Fly Ash  Water  Superplasticizer  \\\n",
       "0   540.0                 0.0      0.0  162.0               2.5   \n",
       "1   540.0                 0.0      0.0  162.0               2.5   \n",
       "2   332.5               142.5      0.0  228.0               0.0   \n",
       "3   332.5               142.5      0.0  228.0               0.0   \n",
       "4   198.6               132.4      0.0  192.0               0.0   \n",
       "\n",
       "   Coarse Aggregate  Fine Aggregate  Age  \n",
       "0            1040.0           676.0   28  \n",
       "1            1055.0           676.0   28  \n",
       "2             932.0           594.0  270  \n",
       "3             932.0           594.0  365  \n",
       "4             978.4           825.5  360  "
      ]
     },
     "execution_count": 8,
     "metadata": {},
     "output_type": "execute_result"
    }
   ],
   "source": [
    "predictors.head()"
   ]
  },
  {
   "cell_type": "code",
   "execution_count": 9,
   "id": "73c20d82-d805-4c2a-a784-002173e1828b",
   "metadata": {
    "tags": []
   },
   "outputs": [
    {
     "data": {
      "text/plain": [
       "0    79.99\n",
       "1    61.89\n",
       "2    40.27\n",
       "3    41.05\n",
       "4    44.30\n",
       "Name: Strength, dtype: float64"
      ]
     },
     "execution_count": 9,
     "metadata": {},
     "output_type": "execute_result"
    }
   ],
   "source": [
    "target.head()"
   ]
  },
  {
   "cell_type": "markdown",
   "id": "a4931bc9-602f-48f6-abfd-82cb76a008e7",
   "metadata": {},
   "source": [
    "Normalize the data by substracting the mean and dividing by the standard deviation.\n"
   ]
  },
  {
   "cell_type": "code",
   "execution_count": 10,
   "id": "0ed16f75-7561-4307-8ffd-90af786ce371",
   "metadata": {
    "tags": []
   },
   "outputs": [
    {
     "data": {
      "text/html": [
       "<div>\n",
       "<style scoped>\n",
       "    .dataframe tbody tr th:only-of-type {\n",
       "        vertical-align: middle;\n",
       "    }\n",
       "\n",
       "    .dataframe tbody tr th {\n",
       "        vertical-align: top;\n",
       "    }\n",
       "\n",
       "    .dataframe thead th {\n",
       "        text-align: right;\n",
       "    }\n",
       "</style>\n",
       "<table border=\"1\" class=\"dataframe\">\n",
       "  <thead>\n",
       "    <tr style=\"text-align: right;\">\n",
       "      <th></th>\n",
       "      <th>Cement</th>\n",
       "      <th>Blast Furnace Slag</th>\n",
       "      <th>Fly Ash</th>\n",
       "      <th>Water</th>\n",
       "      <th>Superplasticizer</th>\n",
       "      <th>Coarse Aggregate</th>\n",
       "      <th>Fine Aggregate</th>\n",
       "      <th>Age</th>\n",
       "    </tr>\n",
       "  </thead>\n",
       "  <tbody>\n",
       "    <tr>\n",
       "      <th>0</th>\n",
       "      <td>2.476712</td>\n",
       "      <td>-0.856472</td>\n",
       "      <td>-0.846733</td>\n",
       "      <td>-0.916319</td>\n",
       "      <td>-0.620147</td>\n",
       "      <td>0.862735</td>\n",
       "      <td>-1.217079</td>\n",
       "      <td>-0.279597</td>\n",
       "    </tr>\n",
       "    <tr>\n",
       "      <th>1</th>\n",
       "      <td>2.476712</td>\n",
       "      <td>-0.856472</td>\n",
       "      <td>-0.846733</td>\n",
       "      <td>-0.916319</td>\n",
       "      <td>-0.620147</td>\n",
       "      <td>1.055651</td>\n",
       "      <td>-1.217079</td>\n",
       "      <td>-0.279597</td>\n",
       "    </tr>\n",
       "    <tr>\n",
       "      <th>2</th>\n",
       "      <td>0.491187</td>\n",
       "      <td>0.795140</td>\n",
       "      <td>-0.846733</td>\n",
       "      <td>2.174405</td>\n",
       "      <td>-1.038638</td>\n",
       "      <td>-0.526262</td>\n",
       "      <td>-2.239829</td>\n",
       "      <td>3.551340</td>\n",
       "    </tr>\n",
       "    <tr>\n",
       "      <th>3</th>\n",
       "      <td>0.491187</td>\n",
       "      <td>0.795140</td>\n",
       "      <td>-0.846733</td>\n",
       "      <td>2.174405</td>\n",
       "      <td>-1.038638</td>\n",
       "      <td>-0.526262</td>\n",
       "      <td>-2.239829</td>\n",
       "      <td>5.055221</td>\n",
       "    </tr>\n",
       "    <tr>\n",
       "      <th>4</th>\n",
       "      <td>-0.790075</td>\n",
       "      <td>0.678079</td>\n",
       "      <td>-0.846733</td>\n",
       "      <td>0.488555</td>\n",
       "      <td>-1.038638</td>\n",
       "      <td>0.070492</td>\n",
       "      <td>0.647569</td>\n",
       "      <td>4.976069</td>\n",
       "    </tr>\n",
       "  </tbody>\n",
       "</table>\n",
       "</div>"
      ],
      "text/plain": [
       "     Cement  Blast Furnace Slag   Fly Ash     Water  Superplasticizer  \\\n",
       "0  2.476712           -0.856472 -0.846733 -0.916319         -0.620147   \n",
       "1  2.476712           -0.856472 -0.846733 -0.916319         -0.620147   \n",
       "2  0.491187            0.795140 -0.846733  2.174405         -1.038638   \n",
       "3  0.491187            0.795140 -0.846733  2.174405         -1.038638   \n",
       "4 -0.790075            0.678079 -0.846733  0.488555         -1.038638   \n",
       "\n",
       "   Coarse Aggregate  Fine Aggregate       Age  \n",
       "0          0.862735       -1.217079 -0.279597  \n",
       "1          1.055651       -1.217079 -0.279597  \n",
       "2         -0.526262       -2.239829  3.551340  \n",
       "3         -0.526262       -2.239829  5.055221  \n",
       "4          0.070492        0.647569  4.976069  "
      ]
     },
     "execution_count": 10,
     "metadata": {},
     "output_type": "execute_result"
    }
   ],
   "source": [
    "predictors_norm = (predictors - predictors.mean()) / predictors.std()\n",
    "predictors_norm.head()"
   ]
  },
  {
   "cell_type": "markdown",
   "id": "337d4815-cb28-4b20-a984-28cec61cdf87",
   "metadata": {},
   "source": [
    "Save the number of predictors to *n_cols* since we will need this number when building our network.\n"
   ]
  },
  {
   "cell_type": "code",
   "execution_count": 11,
   "id": "39cea18e-27fd-4600-8ca7-2a2f826b26d9",
   "metadata": {
    "tags": []
   },
   "outputs": [],
   "source": [
    "n_cols = predictors_norm.shape[1] # number of predictors"
   ]
  },
  {
   "cell_type": "markdown",
   "id": "b1cb1c8e-b966-4117-ac6d-67657bab6783",
   "metadata": {},
   "source": [
    "<a id=\"item42\"></a>"
   ]
  },
  {
   "cell_type": "markdown",
   "id": "0428b118-2a7f-43d1-8159-ea5a630cae38",
   "metadata": {},
   "source": [
    "## 2. Import Keras \n",
    "Import Keras and the packages from the Keras library that we will need to build our regression model."
   ]
  },
  {
   "cell_type": "code",
   "execution_count": 12,
   "id": "a8559669-d9eb-42e8-bc1b-900237c6b3c0",
   "metadata": {
    "tags": []
   },
   "outputs": [
    {
     "name": "stderr",
     "output_type": "stream",
     "text": [
      "Using TensorFlow backend.\n",
      "/home/jupyterlab/conda/envs/python/lib/python3.7/site-packages/tensorflow/python/framework/dtypes.py:516: FutureWarning: Passing (type, 1) or '1type' as a synonym of type is deprecated; in a future version of numpy, it will be understood as (type, (1,)) / '(1,)type'.\n",
      "  _np_qint8 = np.dtype([(\"qint8\", np.int8, 1)])\n",
      "/home/jupyterlab/conda/envs/python/lib/python3.7/site-packages/tensorflow/python/framework/dtypes.py:517: FutureWarning: Passing (type, 1) or '1type' as a synonym of type is deprecated; in a future version of numpy, it will be understood as (type, (1,)) / '(1,)type'.\n",
      "  _np_quint8 = np.dtype([(\"quint8\", np.uint8, 1)])\n",
      "/home/jupyterlab/conda/envs/python/lib/python3.7/site-packages/tensorflow/python/framework/dtypes.py:518: FutureWarning: Passing (type, 1) or '1type' as a synonym of type is deprecated; in a future version of numpy, it will be understood as (type, (1,)) / '(1,)type'.\n",
      "  _np_qint16 = np.dtype([(\"qint16\", np.int16, 1)])\n",
      "/home/jupyterlab/conda/envs/python/lib/python3.7/site-packages/tensorflow/python/framework/dtypes.py:519: FutureWarning: Passing (type, 1) or '1type' as a synonym of type is deprecated; in a future version of numpy, it will be understood as (type, (1,)) / '(1,)type'.\n",
      "  _np_quint16 = np.dtype([(\"quint16\", np.uint16, 1)])\n",
      "/home/jupyterlab/conda/envs/python/lib/python3.7/site-packages/tensorflow/python/framework/dtypes.py:520: FutureWarning: Passing (type, 1) or '1type' as a synonym of type is deprecated; in a future version of numpy, it will be understood as (type, (1,)) / '(1,)type'.\n",
      "  _np_qint32 = np.dtype([(\"qint32\", np.int32, 1)])\n",
      "/home/jupyterlab/conda/envs/python/lib/python3.7/site-packages/tensorflow/python/framework/dtypes.py:525: FutureWarning: Passing (type, 1) or '1type' as a synonym of type is deprecated; in a future version of numpy, it will be understood as (type, (1,)) / '(1,)type'.\n",
      "  np_resource = np.dtype([(\"resource\", np.ubyte, 1)])\n",
      "/home/jupyterlab/conda/envs/python/lib/python3.7/site-packages/tensorboard/compat/tensorflow_stub/dtypes.py:541: FutureWarning: Passing (type, 1) or '1type' as a synonym of type is deprecated; in a future version of numpy, it will be understood as (type, (1,)) / '(1,)type'.\n",
      "  _np_qint8 = np.dtype([(\"qint8\", np.int8, 1)])\n",
      "/home/jupyterlab/conda/envs/python/lib/python3.7/site-packages/tensorboard/compat/tensorflow_stub/dtypes.py:542: FutureWarning: Passing (type, 1) or '1type' as a synonym of type is deprecated; in a future version of numpy, it will be understood as (type, (1,)) / '(1,)type'.\n",
      "  _np_quint8 = np.dtype([(\"quint8\", np.uint8, 1)])\n",
      "/home/jupyterlab/conda/envs/python/lib/python3.7/site-packages/tensorboard/compat/tensorflow_stub/dtypes.py:543: FutureWarning: Passing (type, 1) or '1type' as a synonym of type is deprecated; in a future version of numpy, it will be understood as (type, (1,)) / '(1,)type'.\n",
      "  _np_qint16 = np.dtype([(\"qint16\", np.int16, 1)])\n",
      "/home/jupyterlab/conda/envs/python/lib/python3.7/site-packages/tensorboard/compat/tensorflow_stub/dtypes.py:544: FutureWarning: Passing (type, 1) or '1type' as a synonym of type is deprecated; in a future version of numpy, it will be understood as (type, (1,)) / '(1,)type'.\n",
      "  _np_quint16 = np.dtype([(\"quint16\", np.uint16, 1)])\n",
      "/home/jupyterlab/conda/envs/python/lib/python3.7/site-packages/tensorboard/compat/tensorflow_stub/dtypes.py:545: FutureWarning: Passing (type, 1) or '1type' as a synonym of type is deprecated; in a future version of numpy, it will be understood as (type, (1,)) / '(1,)type'.\n",
      "  _np_qint32 = np.dtype([(\"qint32\", np.int32, 1)])\n",
      "/home/jupyterlab/conda/envs/python/lib/python3.7/site-packages/tensorboard/compat/tensorflow_stub/dtypes.py:550: FutureWarning: Passing (type, 1) or '1type' as a synonym of type is deprecated; in a future version of numpy, it will be understood as (type, (1,)) / '(1,)type'.\n",
      "  np_resource = np.dtype([(\"resource\", np.ubyte, 1)])\n"
     ]
    }
   ],
   "source": [
    "import keras"
   ]
  },
  {
   "cell_type": "code",
   "execution_count": 13,
   "id": "09b34ef7-5373-442a-a0be-227c6d55c5de",
   "metadata": {
    "tags": []
   },
   "outputs": [],
   "source": [
    "from keras.models import Sequential\n",
    "from keras.layers import Dense"
   ]
  },
  {
   "cell_type": "markdown",
   "id": "2c96490c-e1b4-4719-93ea-87846f594bb9",
   "metadata": {},
   "source": [
    "<a id=\"item43\"></a>"
   ]
  },
  {
   "cell_type": "markdown",
   "id": "8d6cb5ee-6efc-4a0d-8946-1bc5a73979eb",
   "metadata": {},
   "source": [
    "## 3. Build a Neural Network"
   ]
  },
  {
   "cell_type": "markdown",
   "id": "5ca118ad-5c30-47ac-95ef-c74cf2ac68a3",
   "metadata": {},
   "source": [
    "Define a function that defines our regression model for us so that we can conveniently call it to create our model.\n",
    "\n",
    "- Three hidden layers, each of 10 nodes and ReLU activation function\n",
    "\n",
    "- Use the adam optimizer and the mean squared error as the loss function.\n"
   ]
  },
  {
   "cell_type": "code",
   "execution_count": 14,
   "id": "246b9c36-432a-4014-ae09-6a360a23e5d7",
   "metadata": {
    "tags": []
   },
   "outputs": [],
   "source": [
    "# define regression model\n",
    "def regression_model():\n",
    "    # create model\n",
    "    model = Sequential()\n",
    "    model.add(Dense(10, activation='relu', input_shape=(n_cols,)))\n",
    "    model.add(Dense(10, activation='relu'))\n",
    "    model.add(Dense(10, activation='relu'))\n",
    "    model.add(Dense(1))\n",
    "    \n",
    "    # compile model\n",
    "    model.compile(optimizer='adam', loss='mean_squared_error')\n",
    "    return model"
   ]
  },
  {
   "cell_type": "markdown",
   "id": "c55481d8-66b6-4be2-8333-3139320d1c80",
   "metadata": {},
   "source": [
    "Call the function to create our model.\n"
   ]
  },
  {
   "cell_type": "code",
   "execution_count": 15,
   "id": "aa2df696-5ffc-4f81-a9e4-9c33ed95d63a",
   "metadata": {
    "tags": []
   },
   "outputs": [
    {
     "name": "stdout",
     "output_type": "stream",
     "text": [
      "WARNING:tensorflow:From /home/jupyterlab/conda/envs/python/lib/python3.7/site-packages/keras/backend/tensorflow_backend.py:68: The name tf.get_default_graph is deprecated. Please use tf.compat.v1.get_default_graph instead.\n",
      "\n",
      "WARNING:tensorflow:From /home/jupyterlab/conda/envs/python/lib/python3.7/site-packages/keras/backend/tensorflow_backend.py:508: The name tf.placeholder is deprecated. Please use tf.compat.v1.placeholder instead.\n",
      "\n",
      "WARNING:tensorflow:From /home/jupyterlab/conda/envs/python/lib/python3.7/site-packages/keras/backend/tensorflow_backend.py:3837: The name tf.random_uniform is deprecated. Please use tf.random.uniform instead.\n",
      "\n",
      "WARNING:tensorflow:From /home/jupyterlab/conda/envs/python/lib/python3.7/site-packages/keras/optimizers.py:757: The name tf.train.Optimizer is deprecated. Please use tf.compat.v1.train.Optimizer instead.\n",
      "\n"
     ]
    }
   ],
   "source": [
    "# build the model\n",
    "model = regression_model()"
   ]
  },
  {
   "cell_type": "markdown",
   "id": "c46aabea-7ea3-42f8-812f-0fc025ef61eb",
   "metadata": {},
   "source": [
    "<a id=\"item44\"></a>"
   ]
  },
  {
   "cell_type": "markdown",
   "id": "c4838920-1f33-4e10-9642-e6e3a5929aa1",
   "metadata": {},
   "source": [
    "## 4. Train and Test the Network\n"
   ]
  },
  {
   "cell_type": "markdown",
   "id": "528a701a-970e-4dec-ad44-563993335c1a",
   "metadata": {},
   "source": [
    "4.1. Randomly split the data into a training and test sets by holding 30% of the data for testing.  \n",
    "4.2. Train the model on the training data using 50 epochs."
   ]
  },
  {
   "cell_type": "code",
   "execution_count": 16,
   "id": "49fa845a-9020-4f99-8a3c-911e4f54f103",
   "metadata": {
    "tags": []
   },
   "outputs": [
    {
     "name": "stdout",
     "output_type": "stream",
     "text": [
      "WARNING:tensorflow:From /home/jupyterlab/conda/envs/python/lib/python3.7/site-packages/keras/backend/tensorflow_backend.py:977: The name tf.assign_add is deprecated. Please use tf.compat.v1.assign_add instead.\n",
      "\n",
      "WARNING:tensorflow:From /home/jupyterlab/conda/envs/python/lib/python3.7/site-packages/keras/backend/tensorflow_backend.py:964: The name tf.assign is deprecated. Please use tf.compat.v1.assign instead.\n",
      "\n",
      "Train on 721 samples, validate on 309 samples\n",
      "Epoch 1/50\n"
     ]
    },
    {
     "name": "stderr",
     "output_type": "stream",
     "text": [
      "2024-01-06 16:28:54.165917: I tensorflow/core/platform/cpu_feature_guard.cc:142] Your CPU supports instructions that this TensorFlow binary was not compiled to use: SSE4.1 SSE4.2 AVX AVX2 AVX512F FMA\n",
      "2024-01-06 16:28:54.171943: I tensorflow/core/platform/profile_utils/cpu_utils.cc:94] CPU Frequency: 2394295000 Hz\n",
      "2024-01-06 16:28:54.172989: I tensorflow/compiler/xla/service/service.cc:168] XLA service 0x55e562cf4990 executing computations on platform Host. Devices:\n",
      "2024-01-06 16:28:54.173058: I tensorflow/compiler/xla/service/service.cc:175]   StreamExecutor device (0): <undefined>, <undefined>\n",
      "2024-01-06 16:28:54.299110: W tensorflow/compiler/jit/mark_for_compilation_pass.cc:1412] (One-time warning): Not using XLA:CPU for cluster because envvar TF_XLA_FLAGS=--tf_xla_cpu_global_jit was not set.  If you want XLA:CPU, either set that envvar, or use experimental_jit_scope to enable XLA:CPU.  To confirm that XLA is active, pass --vmodule=xla_compilation_cache=1 (as a proper command-line flag, not via TF_XLA_FLAGS) or set the envvar XLA_FLAGS=--xla_hlo_profile.\n"
     ]
    },
    {
     "name": "stdout",
     "output_type": "stream",
     "text": [
      " - 0s - loss: 1784.3492 - val_loss: 1279.1835\n",
      "Epoch 2/50\n",
      " - 0s - loss: 1746.4478 - val_loss: 1256.2749\n",
      "Epoch 3/50\n",
      " - 0s - loss: 1720.2166 - val_loss: 1239.3579\n",
      "Epoch 4/50\n",
      " - 0s - loss: 1700.7828 - val_loss: 1225.5559\n",
      "Epoch 5/50\n",
      " - 0s - loss: 1685.4183 - val_loss: 1213.6706\n",
      "Epoch 6/50\n",
      " - 0s - loss: 1670.8545 - val_loss: 1201.0454\n",
      "Epoch 7/50\n",
      " - 0s - loss: 1652.9805 - val_loss: 1184.5025\n",
      "Epoch 8/50\n",
      " - 0s - loss: 1627.2745 - val_loss: 1159.7904\n",
      "Epoch 9/50\n",
      " - 0s - loss: 1587.3884 - val_loss: 1122.3247\n",
      "Epoch 10/50\n",
      " - 0s - loss: 1527.3191 - val_loss: 1067.0070\n",
      "Epoch 11/50\n",
      " - 0s - loss: 1436.1414 - val_loss: 986.6263\n",
      "Epoch 12/50\n",
      " - 0s - loss: 1302.5613 - val_loss: 872.4970\n",
      "Epoch 13/50\n",
      " - 0s - loss: 1111.4545 - val_loss: 733.2163\n",
      "Epoch 14/50\n",
      " - 0s - loss: 877.1001 - val_loss: 576.0727\n",
      "Epoch 15/50\n",
      " - 0s - loss: 624.6696 - val_loss: 429.6554\n",
      "Epoch 16/50\n",
      " - 0s - loss: 412.2725 - val_loss: 313.6042\n",
      "Epoch 17/50\n",
      " - 0s - loss: 283.6657 - val_loss: 245.7553\n",
      "Epoch 18/50\n",
      " - 0s - loss: 232.1692 - val_loss: 217.6699\n",
      "Epoch 19/50\n",
      " - 0s - loss: 216.5887 - val_loss: 202.8840\n",
      "Epoch 20/50\n",
      " - 0s - loss: 209.2659 - val_loss: 195.1073\n",
      "Epoch 21/50\n",
      " - 0s - loss: 203.1616 - val_loss: 189.5005\n",
      "Epoch 22/50\n",
      " - 0s - loss: 198.2753 - val_loss: 185.6925\n",
      "Epoch 23/50\n",
      " - 0s - loss: 194.1588 - val_loss: 180.4550\n",
      "Epoch 24/50\n",
      " - 0s - loss: 190.1537 - val_loss: 176.3574\n",
      "Epoch 25/50\n",
      " - 0s - loss: 186.5481 - val_loss: 172.9480\n",
      "Epoch 26/50\n",
      " - 0s - loss: 183.1390 - val_loss: 170.2911\n",
      "Epoch 27/50\n",
      " - 0s - loss: 180.0235 - val_loss: 167.1885\n",
      "Epoch 28/50\n",
      " - 0s - loss: 177.0577 - val_loss: 164.0477\n",
      "Epoch 29/50\n",
      " - 0s - loss: 174.4825 - val_loss: 161.5284\n",
      "Epoch 30/50\n",
      " - 0s - loss: 171.5499 - val_loss: 159.4191\n",
      "Epoch 31/50\n",
      " - 0s - loss: 169.0778 - val_loss: 155.8192\n",
      "Epoch 32/50\n",
      " - 0s - loss: 166.5556 - val_loss: 155.0714\n",
      "Epoch 33/50\n",
      " - 0s - loss: 163.9918 - val_loss: 152.5764\n",
      "Epoch 34/50\n",
      " - 0s - loss: 161.6080 - val_loss: 149.6271\n",
      "Epoch 35/50\n",
      " - 0s - loss: 159.4332 - val_loss: 148.1503\n",
      "Epoch 36/50\n",
      " - 0s - loss: 157.8227 - val_loss: 146.3633\n",
      "Epoch 37/50\n",
      " - 0s - loss: 155.6249 - val_loss: 145.8231\n",
      "Epoch 38/50\n",
      " - 0s - loss: 153.7461 - val_loss: 143.9591\n",
      "Epoch 39/50\n",
      " - 0s - loss: 152.0015 - val_loss: 143.5893\n",
      "Epoch 40/50\n",
      " - 0s - loss: 150.3573 - val_loss: 141.0355\n",
      "Epoch 41/50\n",
      " - 0s - loss: 148.7397 - val_loss: 140.8044\n",
      "Epoch 42/50\n",
      " - 0s - loss: 146.9008 - val_loss: 138.9804\n",
      "Epoch 43/50\n",
      " - 0s - loss: 145.3722 - val_loss: 139.5012\n",
      "Epoch 44/50\n",
      " - 0s - loss: 143.9076 - val_loss: 137.7414\n",
      "Epoch 45/50\n",
      " - 0s - loss: 142.4912 - val_loss: 138.1773\n",
      "Epoch 46/50\n",
      " - 0s - loss: 141.2325 - val_loss: 137.2716\n",
      "Epoch 47/50\n",
      " - 0s - loss: 140.0018 - val_loss: 137.1251\n",
      "Epoch 48/50\n",
      " - 0s - loss: 138.5548 - val_loss: 136.2513\n",
      "Epoch 49/50\n",
      " - 0s - loss: 137.5158 - val_loss: 136.4283\n",
      "Epoch 50/50\n",
      " - 0s - loss: 136.3035 - val_loss: 136.7258\n"
     ]
    },
    {
     "data": {
      "text/plain": [
       "<keras.callbacks.History at 0x7f3828860f50>"
      ]
     },
     "execution_count": 16,
     "metadata": {},
     "output_type": "execute_result"
    }
   ],
   "source": [
    "# fit the model\n",
    "model.fit(predictors_norm, target, validation_split=0.3, epochs=50, verbose=2)"
   ]
  },
  {
   "cell_type": "markdown",
   "id": "f1d263ce-a4be-486b-a24c-0c0da770b564",
   "metadata": {
    "tags": []
   },
   "source": [
    "<a id=\"item45\"></a>"
   ]
  },
  {
   "cell_type": "markdown",
   "id": "43c3550a-f4ed-44e6-8336-a4513fda1bc5",
   "metadata": {},
   "source": [
    "## 5. Evaluate the model"
   ]
  },
  {
   "cell_type": "markdown",
   "id": "6e28dc50-ca50-4b86-8d01-10cc5cc2723d",
   "metadata": {},
   "source": [
    "5.1. Evaluate the model on the test data and compute the mean squared error between the predicted concrete strength and the actual concrete strength.    "
   ]
  },
  {
   "cell_type": "code",
   "execution_count": 17,
   "id": "aac06062-9e5c-4948-84c1-fe82cb9c2192",
   "metadata": {
    "tags": []
   },
   "outputs": [
    {
     "name": "stderr",
     "output_type": "stream",
     "text": [
      "/home/jupyterlab/conda/envs/python/lib/python3.7/site-packages/sklearn/utils/validation.py:37: DeprecationWarning: distutils Version classes are deprecated. Use packaging.version instead.\n",
      "  LARGE_SPARSE_SUPPORTED = LooseVersion(scipy_version) >= '0.14.0'\n"
     ]
    },
    {
     "name": "stdout",
     "output_type": "stream",
     "text": [
      "Mean Squared Error on Test Data: 135.70408598125027\n"
     ]
    }
   ],
   "source": [
    "## evaluate the model\n",
    "from sklearn.metrics import mean_squared_error\n",
    "\n",
    "# y_pred are the predictions of the model with the test data \n",
    "y_pred = model.predict(predictors_norm)\n",
    "\n",
    "# Calculate Mean Squared Error (MSE) \n",
    "mse = mean_squared_error(target, y_pred)\n",
    "\n",
    "print(f'Mean Squared Error on Test Data: {mse}')"
   ]
  },
  {
   "cell_type": "markdown",
   "id": "4b8755e9-65f7-49e5-a8b3-1a2fd3cb6efa",
   "metadata": {
    "tags": []
   },
   "source": [
    "5.2. Repeat steps 4.1, 4.2 and 5.1, 50 times, i.e., create a list of 50 mean squared errors."
   ]
  },
  {
   "cell_type": "code",
   "execution_count": 18,
   "id": "2660dbaf-6e38-4591-a714-85274e69de33",
   "metadata": {
    "tags": []
   },
   "outputs": [
    {
     "name": "stdout",
     "output_type": "stream",
     "text": [
      "List of Mean Squared Errors:\n",
      "[114.82478480420694, 97.26617336028767, 82.02441849641954, 77.9548083860247, 79.28672378236898, 76.52302323338328, 73.45981613319812, 70.62971611445359, 71.56188655311621, 67.51179601592524, 65.75522421027297, 64.98988137827742, 63.23860626472458, 62.798916046844276, 60.86474292497149, 62.44370084944205, 61.780152000584394, 60.655695160923955, 60.20221634432932, 58.412059719242436, 59.578702343303206, 54.38354999645064, 52.758065748571596, 51.94829533316982, 52.06432321586791, 50.653670092245086, 51.70192655436964, 48.75295760063603, 49.24184680211494, 46.46281173420354, 47.25665303828428, 47.964917295448124, 45.69797583594313, 43.69687999745047, 44.71067089100065, 44.74899826970014, 44.71239493709966, 47.65108487787156, 43.991994459721205, 42.25316687409018, 43.490008329424356, 43.66489384042932, 43.403157948665395, 43.272179105361865, 42.00054791928517, 43.963552427858545, 42.80167707326734, 42.669005502704934, 41.52770459584703, 44.5607899926921]\n"
     ]
    }
   ],
   "source": [
    "num_repeats = 50\n",
    "mse_list = []\n",
    "for _ in range(num_repeats):\n",
    "    \n",
    "    model.fit(predictors_norm, target, validation_split=0.3, epochs=50, verbose=0)\n",
    "    y_pred = model.predict(predictors_norm)\n",
    "    mse = mean_squared_error(target, y_pred)\n",
    "    # Add MSE to the list\n",
    "    mse_list.append(mse)\n",
    "\n",
    "print(\"List of Mean Squared Errors:\")\n",
    "print(mse_list)"
   ]
  },
  {
   "cell_type": "markdown",
   "id": "d2c8c1c4-f86e-4815-861a-9165431b41fe",
   "metadata": {
    "tags": []
   },
   "source": [
    "5.3. Report the mean and the standard deviation of the mean squared errors."
   ]
  },
  {
   "cell_type": "code",
   "execution_count": 19,
   "id": "1456be7d-2157-4e59-be04-37dd162245f8",
   "metadata": {
    "tags": []
   },
   "outputs": [
    {
     "name": "stdout",
     "output_type": "stream",
     "text": [
      "Mean of Mean Squared Errors: 56.67537488824149\n",
      "Standard Deviation of Mean Squared Errors: 15.306463375672434\n"
     ]
    }
   ],
   "source": [
    "mean_mse = np.mean(mse_list)\n",
    "std_mse = np.std(mse_list)\n",
    "\n",
    "print(f\"Mean of Mean Squared Errors: {mean_mse}\")\n",
    "print(f\"Standard Deviation of Mean Squared Errors: {std_mse}\")"
   ]
  },
  {
   "cell_type": "markdown",
   "id": "f4ec9098-573d-4dba-9607-7dff327d2a70",
   "metadata": {
    "tags": []
   },
   "source": [
    "Mean of Mean Squared Errors: 56.67537488824149\n",
    "Standard Deviation of Mean Squared Errors: 15.306463375672434\n",
    "With an increased number of hidden layers and the same 50 epochs as part B, shows a lower mean MSE (56.68) compared to part B (68.37), suggesting that adding more hidden layers might contribute to improved performance. Additionally, the standard deviation in Case D is lower, indicating more consistent results"
   ]
  },
  {
   "cell_type": "code",
   "execution_count": null,
   "id": "48fc3628-2375-4318-8541-f5e800bfd2c5",
   "metadata": {},
   "outputs": [],
   "source": []
  }
 ],
 "metadata": {
  "kernelspec": {
   "display_name": "Python",
   "language": "python",
   "name": "conda-env-python-py"
  },
  "language_info": {
   "codemirror_mode": {
    "name": "ipython",
    "version": 3
   },
   "file_extension": ".py",
   "mimetype": "text/x-python",
   "name": "python",
   "nbconvert_exporter": "python",
   "pygments_lexer": "ipython3",
   "version": "3.7.12"
  }
 },
 "nbformat": 4,
 "nbformat_minor": 5
}
